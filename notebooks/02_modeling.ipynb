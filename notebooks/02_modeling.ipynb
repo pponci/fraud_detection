{
 "cells": [
  {
   "cell_type": "code",
   "execution_count": 1,
   "metadata": {},
   "outputs": [],
   "source": [
    "import pandas as pd"
   ]
  },
  {
   "cell_type": "code",
   "execution_count": 5,
   "metadata": {},
   "outputs": [],
   "source": [
    "seed = 11"
   ]
  },
  {
   "cell_type": "code",
   "execution_count": 2,
   "metadata": {},
   "outputs": [],
   "source": [
    "df_train = pd.read_csv(\"../data/processed/train_data.csv\", index_col = 0)\n",
    "df_val = pd.read_csv(\"../data/processed/validation_data.csv\", index_col = 0)"
   ]
  },
  {
   "cell_type": "code",
   "execution_count": null,
   "metadata": {},
   "outputs": [],
   "source": [
    "class PrepDataset():\n",
    "\n",
    "    def __init__(self, df : pd.DataFrame):\n",
    "        self.df = df\n",
    "\n",
    "        cols_to_remove = [\"step\", \"oldbalanceOrg\", \"newbalanceOrig\", \"oldbalanceDest\", \"newbalanceDest\"]\n",
    "        self.remove_columns(col_list = cols_to_remove)\n",
    "\n",
    "\n",
    "    \n",
    "    def remove_columns(self, col_list : list):\n",
    "        \"\"\"\n",
    "        This function drops a list of columns from \n",
    "        the dataframe.\n",
    "        \"\"\"\n",
    "\n",
    "        self.df.drop(col_list, axis = 1, inplace = True)"
   ]
  }
 ],
 "metadata": {
  "kernelspec": {
   "display_name": "base",
   "language": "python",
   "name": "python3"
  },
  "language_info": {
   "codemirror_mode": {
    "name": "ipython",
    "version": 3
   },
   "file_extension": ".py",
   "mimetype": "text/x-python",
   "name": "python",
   "nbconvert_exporter": "python",
   "pygments_lexer": "ipython3",
   "version": "3.12.11"
  }
 },
 "nbformat": 4,
 "nbformat_minor": 2
}
