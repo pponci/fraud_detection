{
 "cells": [
  {
   "cell_type": "markdown",
   "metadata": {},
   "source": [
    "# Basic set up"
   ]
  },
  {
   "cell_type": "code",
   "execution_count": 331,
   "metadata": {},
   "outputs": [],
   "source": [
    "import pandas as pd\n",
    "import numpy as np\n",
    "import matplotlib.pyplot as plt\n",
    "import json\n",
    "import os\n",
    "import warnings\n",
    "import joblib\n",
    "import tqdm\n",
    "\n",
    "from joblib import parallel_backend\n",
    "\n",
    "import sklearn.metrics as skm\n",
    "\n",
    "from sklearn.model_selection import ParameterGrid\n",
    "from sklearn.exceptions import ConvergenceWarning\n",
    "from sklearn.preprocessing import StandardScaler\n",
    "from sklearn.preprocessing import MinMaxScaler\n",
    "\n",
    "from sklearn.linear_model import LogisticRegression\n",
    "from sklearn.ensemble import RandomForestClassifier\n",
    "from xgboost import XGBClassifier\n",
    "from lightgbm import LGBMClassifier\n",
    "from lightgbm.callback import early_stopping\n",
    "\n",
    "from imblearn.over_sampling import SMOTE\n",
    "from imblearn.under_sampling import TomekLinks\n",
    "from imblearn.combine import SMOTETomek"
   ]
  },
  {
   "cell_type": "code",
   "execution_count": 2,
   "metadata": {},
   "outputs": [],
   "source": [
    "warnings.filterwarnings(\"ignore\", category=ConvergenceWarning)"
   ]
  },
  {
   "cell_type": "code",
   "execution_count": 3,
   "metadata": {},
   "outputs": [],
   "source": [
    "seed = 11"
   ]
  },
  {
   "cell_type": "code",
   "execution_count": 4,
   "metadata": {},
   "outputs": [],
   "source": [
    "df_train = pd.read_csv(\"../data/processed/train_data.csv\", index_col = 0)\n",
    "df_val = pd.read_csv(\"../data/processed/validation_data.csv\", index_col = 0)"
   ]
  },
  {
   "cell_type": "markdown",
   "metadata": {},
   "source": [
    "# Classes "
   ]
  },
  {
   "cell_type": "markdown",
   "metadata": {},
   "source": [
    "## Data Prep Classs"
   ]
  },
  {
   "cell_type": "code",
   "execution_count": 110,
   "metadata": {},
   "outputs": [],
   "source": [
    "class PrepDataset():\n",
    "\n",
    "    def __init__(\n",
    "            self, df : pd.DataFrame, df_name : str, ohe_cutoff : int = 20, outliers : str = None, \n",
    "            target : str = \"isFraud\", imbalance : str = None, seed : int = 11, normalize : str = None,\n",
    "            sampling_strategy : float = 0.5, \n",
    "            cols_to_remove : list = [\"step\", \"oldbalanceOrg\", \"newbalanceOrig\", \"oldbalanceDest\", \"newbalanceDest\"]):\n",
    "        \n",
    "        valid_names = [\"train\", \"validation\", \"test\"]\n",
    "\n",
    "        if df_name not in valid_names:\n",
    "            raise ValueError(f\"invalid df_name : {df_name}, use one of {valid_names}\")\n",
    "        \n",
    "        self.df_name = df_name\n",
    "\n",
    "        self.df = df.copy()\n",
    "        self.df_orginal = df.copy()\n",
    "\n",
    "        self.remove_columns(col_list = cols_to_remove)\n",
    "\n",
    "        self.encode_categoriacals(ohe_cutoff = ohe_cutoff)\n",
    "\n",
    "        if outliers:\n",
    "            self.replace_outliers(method = outliers, df_name = df_name)\n",
    "\n",
    "        self.x, self.y = None, None\n",
    "        self.split_x_y(target = target)\n",
    "\n",
    "        if imbalance and df_name == \"train\":\n",
    "            self.resampling(method = imbalance, sampling_strategy = sampling_strategy)\n",
    "\n",
    "        if normalize:\n",
    "            self.normalize_dataset(df_name = df_name, method = normalize)\n",
    "    \n",
    "    def remove_columns(self, col_list : list):\n",
    "        \"\"\"\n",
    "        This function drops a list of columns from \n",
    "        the dataframe.\n",
    "        \"\"\"\n",
    "\n",
    "        self.df.drop(col_list, axis = 1, inplace = True)\n",
    "    \n",
    "    def encode_categoriacals(self, ohe_cutoff : int = 20, mappings_save_path : str = \"../data/other/\"):\n",
    "        \"\"\"\n",
    "        This function encodes the categorical columns so they can be feed into \n",
    "        a model. The parameter ohe_cutoff divides the columns into two lists. The \n",
    "        first list, containing less unique values per column than then the parameter, will store \n",
    "        the column names that will be one hot encoded. The second list, conataining more or \n",
    "        equal unique values per column than the parameter, will store the column names that will\n",
    "        be label encoded.\n",
    "        \"\"\"\n",
    "        mappings_save_path += f\"mappings_label_encoding_{self.df_name}.json\"\n",
    "\n",
    "        df_unq_vals = self.df.select_dtypes(include = \"object\").nunique().reset_index().rename({\"index\" : \"col_name\", 0 : \"n_unique_values\"}, axis = 1)\n",
    "        ohe_list = df_unq_vals.loc[df_unq_vals.n_unique_values < ohe_cutoff, \"col_name\"].tolist()\n",
    "        label_enc_list = df_unq_vals.loc[df_unq_vals.n_unique_values >= ohe_cutoff, \"col_name\"].tolist()\n",
    "\n",
    "        # one hot encoding \n",
    "        self.df = pd.get_dummies(data = self.df, columns = ohe_list, dtype = int)\n",
    "        \n",
    "        # label encoding\n",
    "        mappings_label_encoding = {}\n",
    "\n",
    "        for col in label_enc_list:\n",
    "            self.df[col] = self.df[col].astype(\"category\")\n",
    "            mappings_label_encoding[col] = dict(enumerate(self.df[col].cat.categories))\n",
    "\n",
    "            self.df[col] = self.df[col].cat.codes\n",
    "\n",
    "        with open(mappings_save_path, 'w') as f:\n",
    "            json.dump(mappings_label_encoding, f)\n",
    "    \n",
    "    def restore_data(self):\n",
    "        \"\"\"\n",
    "        This function restores the data to the original version before\n",
    "        replacing outliers.\n",
    "        \"\"\"\n",
    "\n",
    "        self.df = self.original_df.copy()\n",
    "    \n",
    "    def replace_outliers(self, method : str = \"z_score\", df_name : str = \"train\"):\n",
    "        \"\"\"\n",
    "        This function substitutes outliers with the border value \n",
    "        according to which method chosen.\n",
    "        \"\"\"\n",
    "        \n",
    "        valid_methods = [\"z_score\", \"iqr\", \"both\"]\n",
    "\n",
    "        if method not in valid_methods:\n",
    "            raise ValueError(f\"invalid method : {method}, use one of {valid_methods}\")\n",
    "        \n",
    "        \n",
    "        bounds_json = \"../data/other/outliers_bounds.json\"\n",
    "\n",
    "        if not os.path.exists(bounds_json):\n",
    "            outlier_bounds = {}\n",
    "        else:\n",
    "            with open(bounds_json, \"r\") as file:\n",
    "                outlier_bounds = json.load(file)\n",
    "        \n",
    "        \n",
    "        col_outliers = self.df.select_dtypes(include = \"float\").columns.tolist()\n",
    "\n",
    "        for col in col_outliers:\n",
    "\n",
    "            if df_name == \"train\":\n",
    "                mean = self.df[col].mean()\n",
    "                std = self.df[col].std()\n",
    "\n",
    "                self.df[\"z_score\"] = (self.df[col] - mean) / std\n",
    "                zscore_upper_bound = self.df[self.df.z_score <= 3].sort_values(by = col, ascending = False)[col].head(1).values[0]\n",
    "                zscore_lower_bound = self.df[self.df.z_score >= -3].sort_values(by = col)[col].head(1).values[0]\n",
    "                self.df.drop(\"z_score\", axis = 1, inplace = True)\n",
    "\n",
    "                q1 = self.df[col].quantile(0.25)\n",
    "                q3 = self.df[col].quantile(0.75)\n",
    "                iqr = q3 - q1 \n",
    "\n",
    "                iqr_upper_bound = q3 + 1.5 * iqr\n",
    "                iqr_lower_bound = q1 - 1.5 * iqr\n",
    "\n",
    "                outlier_bounds[col] = {\n",
    "                \"z_upper\": zscore_upper_bound, \"z_lower\": zscore_lower_bound,\n",
    "                \"iqr_upper\": iqr_upper_bound, \"iqr_lower\": iqr_lower_bound\n",
    "                }\n",
    "\n",
    "                with open(bounds_json, \"w\") as file:\n",
    "                    json.dump(outlier_bounds, file, indent=4)\n",
    "\n",
    "            else:\n",
    "                bounds = outlier_bounds.get(col)\n",
    "\n",
    "                if bounds is None:\n",
    "                    raise ValueError(f\"No stored bounds for column {col}.\")\n",
    "                \n",
    "                zscore_upper_bound = bounds[\"z_upper\"]\n",
    "                zscore_lower_bound = bounds[\"z_lower\"]\n",
    "                iqr_upper_bound = bounds[\"iqr_upper\"]\n",
    "                iqr_lower_bound = bounds[\"iqr_lower\"]\n",
    "\n",
    "            if method == \"both\":\n",
    "                upper_bound  = min(zscore_upper_bound, iqr_upper_bound)\n",
    "                lower_bound = max(zscore_lower_bound, iqr_lower_bound)\n",
    "            \n",
    "            elif method == \"z_score\":\n",
    "                upper_bound  = zscore_upper_bound\n",
    "                lower_bound = zscore_lower_bound\n",
    "            \n",
    "            elif method == \"iqr\":\n",
    "                upper_bound  = iqr_upper_bound\n",
    "                lower_bound = iqr_lower_bound\n",
    "        \n",
    "            if len(self.df[self.df[col] > upper_bound]) > 0:\n",
    "                    self.df.loc[self.df[col] > upper_bound, col] = upper_bound\n",
    "                \n",
    "            if len(self.df[self.df[col] < lower_bound]) > 0:\n",
    "                self.df.loc[self.df[col] < lower_bound, col] = lower_bound\n",
    "    \n",
    "    def split_x_y(self, target : str) -> tuple[pd.DataFrame, pd.Series]:\n",
    "        \"\"\"\n",
    "        This function splits a dataframe in x (the dataframe containing the predictors) and\n",
    "        y (the series witht the target)\n",
    "        \"\"\"\n",
    "\n",
    "        predictors = self.df.columns.tolist()\n",
    "        predictors.remove(target)\n",
    "\n",
    "        self.x = self.df[predictors]\n",
    "        self.y = self.df[target]\n",
    "    \n",
    "    def resampling(self, method : str = \"smote\", sampling_strategy : float = 0.05):\n",
    "        \"\"\"\n",
    "        This function resamples the dataset based on the strategy chosen via the \n",
    "        method parameter \n",
    "        \"\"\"\n",
    "        valid_methods = [\"smote\", \"tomek\", \"both\"]\n",
    "\n",
    "        if method not in valid_methods:\n",
    "            raise ValueError(f\"invalid method : {method}, use one of {valid_methods}\")\n",
    "        \n",
    "        if method == \"smote\":\n",
    "            resampler = SMOTE(sampling_strategy = sampling_strategy, random_state = seed)\n",
    "        \n",
    "        elif method == \"tomek\":\n",
    "            resampler = TomekLinks(sampling_strategy = \"auto\")\n",
    "        \n",
    "        elif method == \"both\":\n",
    "            resampler = SMOTETomek(random_state = seed, sampling_strategy = sampling_strategy)\n",
    "        \n",
    "        self.x, self.y = resampler.fit_resample(self.x, self.y)\n",
    "\n",
    "    def normalize_dataset(self, df_name : str, method : str = \"standard\"):\n",
    "        \"\"\"\n",
    "        This function normalizes the dataset.\n",
    "        \"\"\"\n",
    "\n",
    "        valid_methods = [\"standard\", \"min_max\"]\n",
    "\n",
    "        if method not in valid_methods:\n",
    "            raise ValueError(f\"invalid method : {method}, use one of {valid_methods}\")\n",
    "        \n",
    "        if df_name == \"train\":\n",
    "\n",
    "            if method == \"standard\":\n",
    "                scaler = StandardScaler()\n",
    "            \n",
    "            elif method == \"min_max\":\n",
    "                scaler = MinMaxScaler(feature_range = (0, 1))\n",
    "            \n",
    "            self.x = scaler.fit_transform(self.x)\n",
    "            self.x = pd.DataFrame(self.x, columns = scaler.feature_names_in_)\n",
    "\n",
    "            joblib.dump(scaler, f\"../models/scalers/{method}_scaler.pkl\")\n",
    "        \n",
    "        else:\n",
    "            scaler_path = f\"../models/scalers/{method}_scaler.pkl\"\n",
    "\n",
    "            if not os.path.exists(scaler_path):\n",
    "                raise FileNotFoundError(f\"No scaler found at {scaler_path}. Normalize training data first.\")\n",
    "            \n",
    "            else:\n",
    "                scaler = joblib.load(scaler_path)\n",
    "\n",
    "            self.x = scaler.transform(self.x)\n",
    "            self.x = pd.DataFrame(self.x, columns = scaler.feature_names_in_)\n",
    "\n",
    "    def return_x_y(self) -> tuple[pd.DataFrame, pd.Series]:\n",
    "        \"\"\"\n",
    "        This function returns the dataframe.\n",
    "        \"\"\"  \n",
    "\n",
    "        return self.x, self.y"
   ]
  },
  {
   "cell_type": "markdown",
   "metadata": {},
   "source": [
    "## Classical Models Evaluation Class"
   ]
  },
  {
   "cell_type": "code",
   "execution_count": 152,
   "metadata": {},
   "outputs": [],
   "source": [
    "class ClassicModelsEvaluation():\n",
    "\n",
    "    def __init__(\n",
    "            self, x_train : pd.DataFrame, y_train : pd.Series, x_val : pd.DataFrame, y_val : pd.Series, \n",
    "            df_eval : pd.DataFrame, imbalance : str, outliers : str, normalize : str, model, \n",
    "            model_name : str, compute_cm : bool = False):\n",
    "        \n",
    "        if not outliers:\n",
    "                outliers = \"none\"\n",
    "        if not imbalance:\n",
    "            imbalance = \"none\"\n",
    "        if not normalize:\n",
    "            normalize = \"none\"\n",
    "        \n",
    "        self.x_train =  x_train\n",
    "        self.y_train = y_train\n",
    "        self.x_val = x_val\n",
    "        self.y_val = y_val\n",
    "\n",
    "        self.df_eval = df_eval\n",
    "\n",
    "        self.imbalance = imbalance\n",
    "        self.outliers = outliers\n",
    "        self.normalize = normalize\n",
    "\n",
    "        self.compute_cm = compute_cm\n",
    "        self.confusion_matrix = None\n",
    "\n",
    "        with parallel_backend(\"threading\"):\n",
    "            self.evaluate_model(model = model, model_name = model_name, compute_cm = self.compute_cm)\n",
    "        \n",
    "    def evaluate_model(self, model, model_name : str, compute_cm : bool):\n",
    "        \"\"\"\n",
    "        This function first trains the model on the training data contained in the class, and \n",
    "        then evaluates it using both the training data and the validation data, also present in the\n",
    "        class. The results are then stored in the df_eval.\n",
    "        \"\"\"\n",
    "\n",
    "        # training the model\n",
    "        model.fit(self.x_train, self.y_train)\n",
    "\n",
    "        # computing predictions\n",
    "        y_pred_train = model.predict(self.x_train)\n",
    "        y_pred_val = model.predict(self.x_val)\n",
    "        \n",
    "        # calculating metrics\n",
    "        accuracy_train = skm.accuracy_score(y_pred = y_pred_train, y_true = self.y_train)\n",
    "        recall_train = skm.recall_score(y_pred = y_pred_train, y_true = self.y_train, zero_division=0)\n",
    "        precision_train = skm.precision_score(y_pred = y_pred_train, y_true = self.y_train, zero_division=0)\n",
    "        f1_score_train = skm.f1_score(y_pred = y_pred_train, y_true = self.y_train, zero_division=0)\n",
    "\n",
    "        accuracy_val = skm.accuracy_score(y_pred = y_pred_val, y_true = self.y_val)\n",
    "        recall_val = skm.recall_score(y_pred = y_pred_val, y_true = self.y_val, zero_division=0)\n",
    "        precision_val = skm.precision_score(y_pred = y_pred_val, y_true = self.y_val, zero_division=0)\n",
    "        f1_score_val = skm.f1_score(y_pred = y_pred_val, y_true = self.y_val, zero_division=0)\n",
    "\n",
    "        # saving results\n",
    "        self.df_eval.loc[len(self.df_eval)] = {\n",
    "            \"normalization\" : self.normalize,\n",
    "            \"imbalance\" : self.imbalance,\n",
    "            \"outliers\" : self.outliers,\n",
    "            \"model\" : model_name, \n",
    "            \"dataset\" : \"train\", \n",
    "            \"accuracy\" : accuracy_train,\n",
    "            \"recall\" : recall_train, \n",
    "            \"precision\" : precision_train, \n",
    "            \"f1_score\" : f1_score_train}\n",
    "\n",
    "        self.df_eval.loc[len(self.df_eval)] = {\n",
    "            \"normalization\" : self.normalize,\n",
    "            \"imbalance\" : self.imbalance,\n",
    "            \"outliers\" : self.outliers,\n",
    "            \"model\" : model_name, \n",
    "            \"dataset\" : \"validation\", \n",
    "            \"accuracy\" : accuracy_val,\n",
    "            \"recall\" : recall_val, \n",
    "            \"precision\" : precision_val, \n",
    "            \"f1_score\" : f1_score_val}\n",
    "        \n",
    "        if compute_cm:\n",
    "            self.confusion_matrix = skm.confusion_matrix(y_pred = y_pred_val, y_true = self.y_val)\n",
    "\n",
    "    def plot_confusion_matrix(self):\n",
    "        if not self.compute_cm:\n",
    "            raise ValueError(\"compute_cm parameter has to be true to use this function\")\n",
    "        \n",
    "        cm_disp = skm.ConfusionMatrixDisplay(confusion_matrix = self.confusion_matrix)\n",
    "\n",
    "        cm_disp.plot(values_format = 'd')\n",
    "        plt.show()\n",
    "        \n",
    "    def return_df_eval(self):\n",
    "        \"\"\"\n",
    "        This function retuns the df eval.\n",
    "        \"\"\"\n",
    "\n",
    "        return self.df_eval"
   ]
  },
  {
   "cell_type": "markdown",
   "metadata": {},
   "source": [
    "# Modeling"
   ]
  },
  {
   "cell_type": "markdown",
   "metadata": {},
   "source": [
    "## Classical Models"
   ]
  },
  {
   "cell_type": "markdown",
   "metadata": {},
   "source": [
    "### Model Selection\n",
    "\n",
    "We run an evaluation for all the classical models chosen to get an idea of which might perform better. This allows us to focus on a single model for further analysis.\n",
    "\n",
    "We will run the analysis without treating the outliers or the imblance as those will be explored further, however the data will be normalized or not based on the model "
   ]
  },
  {
   "cell_type": "code",
   "execution_count": 155,
   "metadata": {},
   "outputs": [
    {
     "data": {
      "text/html": [
       "<div>\n",
       "<style scoped>\n",
       "    .dataframe tbody tr th:only-of-type {\n",
       "        vertical-align: middle;\n",
       "    }\n",
       "\n",
       "    .dataframe tbody tr th {\n",
       "        vertical-align: top;\n",
       "    }\n",
       "\n",
       "    .dataframe thead th {\n",
       "        text-align: right;\n",
       "    }\n",
       "</style>\n",
       "<table border=\"1\" class=\"dataframe\">\n",
       "  <thead>\n",
       "    <tr style=\"text-align: right;\">\n",
       "      <th></th>\n",
       "      <th>normalization</th>\n",
       "      <th>imbalance</th>\n",
       "      <th>outliers</th>\n",
       "      <th>model</th>\n",
       "      <th>dataset</th>\n",
       "      <th>accuracy</th>\n",
       "      <th>recall</th>\n",
       "      <th>precision</th>\n",
       "      <th>f1_score</th>\n",
       "    </tr>\n",
       "  </thead>\n",
       "  <tbody>\n",
       "  </tbody>\n",
       "</table>\n",
       "</div>"
      ],
      "text/plain": [
       "Empty DataFrame\n",
       "Columns: [normalization, imbalance, outliers, model, dataset, accuracy, recall, precision, f1_score]\n",
       "Index: []"
      ]
     },
     "execution_count": 155,
     "metadata": {},
     "output_type": "execute_result"
    }
   ],
   "source": [
    "df_eval_models = pd.DataFrame(columns = [\"normalization\",\"imbalance\", \"outliers\", \"model\", \"dataset\", \"accuracy\", \"recall\", \"precision\", \"f1_score\"])\n",
    "df_eval_models"
   ]
  },
  {
   "cell_type": "code",
   "execution_count": 156,
   "metadata": {},
   "outputs": [],
   "source": [
    "outliers = None\n",
    "imbalance = None"
   ]
  },
  {
   "cell_type": "markdown",
   "metadata": {},
   "source": [
    "#### Logistic Regression"
   ]
  },
  {
   "cell_type": "code",
   "execution_count": 157,
   "metadata": {},
   "outputs": [
    {
     "data": {
      "text/plain": [
       "((4453834, 9), (4453834,), (1272524, 9), (1272524,))"
      ]
     },
     "execution_count": 157,
     "metadata": {},
     "output_type": "execute_result"
    }
   ],
   "source": [
    "normalize = \"standard\"\n",
    "\n",
    "data_prep_train = PrepDataset(\n",
    "    df = df_train, \n",
    "    df_name = \"train\", \n",
    "    outliers = outliers,\n",
    "    imbalance = imbalance,\n",
    "    normalize = normalize\n",
    "    )\n",
    "\n",
    "x_train, y_train = data_prep_train.return_x_y()\n",
    "\n",
    "data_prep_val = PrepDataset(\n",
    "    df = df_val, \n",
    "    df_name = \"validation\", \n",
    "    outliers= outliers, \n",
    "    imbalance = imbalance,\n",
    "    normalize = normalize)\n",
    "\n",
    "x_val, y_val = data_prep_val.return_x_y()\n",
    "\n",
    "x_train.shape, y_train.shape, x_val.shape, y_val.shape"
   ]
  },
  {
   "cell_type": "code",
   "execution_count": 158,
   "metadata": {},
   "outputs": [],
   "source": [
    "log_ref_class = LogisticRegression(n_jobs = -1, random_state = seed)\n",
    "\n",
    "c_model_eval = ClassicModelsEvaluation(\n",
    "    x_train = x_train,\n",
    "    y_train = y_train,\n",
    "    x_val = x_val, \n",
    "    y_val = y_val,\n",
    "    df_eval = df_eval_models,\n",
    "    imbalance = imbalance,\n",
    "    outliers = outliers,\n",
    "    normalize = normalize,\n",
    "    model = log_ref_class,\n",
    "    model_name = \"logistic regression\",\n",
    "    compute_cm = True\n",
    ")"
   ]
  },
  {
   "cell_type": "code",
   "execution_count": 159,
   "metadata": {},
   "outputs": [
    {
     "data": {
      "text/html": [
       "<div>\n",
       "<style scoped>\n",
       "    .dataframe tbody tr th:only-of-type {\n",
       "        vertical-align: middle;\n",
       "    }\n",
       "\n",
       "    .dataframe tbody tr th {\n",
       "        vertical-align: top;\n",
       "    }\n",
       "\n",
       "    .dataframe thead th {\n",
       "        text-align: right;\n",
       "    }\n",
       "</style>\n",
       "<table border=\"1\" class=\"dataframe\">\n",
       "  <thead>\n",
       "    <tr style=\"text-align: right;\">\n",
       "      <th></th>\n",
       "      <th>normalization</th>\n",
       "      <th>imbalance</th>\n",
       "      <th>outliers</th>\n",
       "      <th>model</th>\n",
       "      <th>dataset</th>\n",
       "      <th>accuracy</th>\n",
       "      <th>recall</th>\n",
       "      <th>precision</th>\n",
       "      <th>f1_score</th>\n",
       "    </tr>\n",
       "  </thead>\n",
       "  <tbody>\n",
       "    <tr>\n",
       "      <th>0</th>\n",
       "      <td>standard</td>\n",
       "      <td>none</td>\n",
       "      <td>none</td>\n",
       "      <td>logistic regression</td>\n",
       "      <td>train</td>\n",
       "      <td>0.998699</td>\n",
       "      <td>0.001913</td>\n",
       "      <td>0.161765</td>\n",
       "      <td>0.003782</td>\n",
       "    </tr>\n",
       "    <tr>\n",
       "      <th>1</th>\n",
       "      <td>standard</td>\n",
       "      <td>none</td>\n",
       "      <td>none</td>\n",
       "      <td>logistic regression</td>\n",
       "      <td>validation</td>\n",
       "      <td>0.998702</td>\n",
       "      <td>0.003043</td>\n",
       "      <td>0.263158</td>\n",
       "      <td>0.006017</td>\n",
       "    </tr>\n",
       "  </tbody>\n",
       "</table>\n",
       "</div>"
      ],
      "text/plain": [
       "  normalization imbalance outliers                model     dataset  accuracy  \\\n",
       "0      standard      none     none  logistic regression       train  0.998699   \n",
       "1      standard      none     none  logistic regression  validation  0.998702   \n",
       "\n",
       "     recall  precision  f1_score  \n",
       "0  0.001913   0.161765  0.003782  \n",
       "1  0.003043   0.263158  0.006017  "
      ]
     },
     "execution_count": 159,
     "metadata": {},
     "output_type": "execute_result"
    }
   ],
   "source": [
    "df_eval_models"
   ]
  },
  {
   "cell_type": "code",
   "execution_count": 160,
   "metadata": {},
   "outputs": [
    {
     "data": {
      "image/png": "[encoded data removed]",
      "text/plain": [
       "<Figure size 640x480 with 2 Axes>"
      ]
     },
     "metadata": {},
     "output_type": "display_data"
    }
   ],
   "source": [
    "c_model_eval.plot_confusion_matrix()"
   ]
  },
  {
   "cell_type": "markdown",
   "metadata": {},
   "source": [
    "#### Random Forest"
   ]
  },
  {
   "cell_type": "code",
   "execution_count": 161,
   "metadata": {},
   "outputs": [
    {
     "data": {
      "text/plain": [
       "((4453834, 9), (4453834,), (1272524, 9), (1272524,))"
      ]
     },
     "execution_count": 161,
     "metadata": {},
     "output_type": "execute_result"
    }
   ],
   "source": [
    "normalize = None\n",
    "\n",
    "data_prep_train = PrepDataset(\n",
    "    df = df_train, \n",
    "    df_name = \"train\", \n",
    "    outliers = outliers,\n",
    "    imbalance = imbalance,\n",
    "    normalize = normalize\n",
    "    )\n",
    "\n",
    "x_train, y_train = data_prep_train.return_x_y()\n",
    "\n",
    "data_prep_val = PrepDataset(\n",
    "    df = df_val, \n",
    "    df_name = \"validation\", \n",
    "    outliers= outliers, \n",
    "    imbalance = imbalance,\n",
    "    normalize = normalize)\n",
    "\n",
    "x_val, y_val = data_prep_val.return_x_y()\n",
    "\n",
    "x_train.shape, y_train.shape, x_val.shape, y_val.shape"
   ]
  },
  {
   "cell_type": "code",
   "execution_count": 162,
   "metadata": {},
   "outputs": [],
   "source": [
    "rf_class = RandomForestClassifier(n_jobs = - 1, random_state = seed)\n",
    "\n",
    "c_model_eval = ClassicModelsEvaluation(\n",
    "    x_train = x_train,\n",
    "    y_train = y_train,\n",
    "    x_val = x_val, \n",
    "    y_val = y_val,\n",
    "    df_eval = df_eval_models,\n",
    "    imbalance = imbalance,\n",
    "    outliers = outliers,\n",
    "    normalize = normalize,\n",
    "    model = rf_class,\n",
    "    model_name = \"random forest\",\n",
    "    compute_cm = True\n",
    ")"
   ]
  },
  {
   "cell_type": "code",
   "execution_count": 163,
   "metadata": {},
   "outputs": [
    {
     "data": {
      "text/html": [
       "<div>\n",
       "<style scoped>\n",
       "    .dataframe tbody tr th:only-of-type {\n",
       "        vertical-align: middle;\n",
       "    }\n",
       "\n",
       "    .dataframe tbody tr th {\n",
       "        vertical-align: top;\n",
       "    }\n",
       "\n",
       "    .dataframe thead th {\n",
       "        text-align: right;\n",
       "    }\n",
       "</style>\n",
       "<table border=\"1\" class=\"dataframe\">\n",
       "  <thead>\n",
       "    <tr style=\"text-align: right;\">\n",
       "      <th></th>\n",
       "      <th>normalization</th>\n",
       "      <th>imbalance</th>\n",
       "      <th>outliers</th>\n",
       "      <th>model</th>\n",
       "      <th>dataset</th>\n",
       "      <th>accuracy</th>\n",
       "      <th>recall</th>\n",
       "      <th>precision</th>\n",
       "      <th>f1_score</th>\n",
       "    </tr>\n",
       "  </thead>\n",
       "  <tbody>\n",
       "    <tr>\n",
       "      <th>0</th>\n",
       "      <td>standard</td>\n",
       "      <td>none</td>\n",
       "      <td>none</td>\n",
       "      <td>logistic regression</td>\n",
       "      <td>train</td>\n",
       "      <td>0.998699</td>\n",
       "      <td>0.001913</td>\n",
       "      <td>0.161765</td>\n",
       "      <td>0.003782</td>\n",
       "    </tr>\n",
       "    <tr>\n",
       "      <th>1</th>\n",
       "      <td>standard</td>\n",
       "      <td>none</td>\n",
       "      <td>none</td>\n",
       "      <td>logistic regression</td>\n",
       "      <td>validation</td>\n",
       "      <td>0.998702</td>\n",
       "      <td>0.003043</td>\n",
       "      <td>0.263158</td>\n",
       "      <td>0.006017</td>\n",
       "    </tr>\n",
       "    <tr>\n",
       "      <th>2</th>\n",
       "      <td>none</td>\n",
       "      <td>none</td>\n",
       "      <td>none</td>\n",
       "      <td>random forest</td>\n",
       "      <td>train</td>\n",
       "      <td>0.999997</td>\n",
       "      <td>0.997391</td>\n",
       "      <td>1.000000</td>\n",
       "      <td>0.998694</td>\n",
       "    </tr>\n",
       "    <tr>\n",
       "      <th>3</th>\n",
       "      <td>none</td>\n",
       "      <td>none</td>\n",
       "      <td>none</td>\n",
       "      <td>random forest</td>\n",
       "      <td>validation</td>\n",
       "      <td>0.998853</td>\n",
       "      <td>0.157638</td>\n",
       "      <td>0.773134</td>\n",
       "      <td>0.261881</td>\n",
       "    </tr>\n",
       "  </tbody>\n",
       "</table>\n",
       "</div>"
      ],
      "text/plain": [
       "  normalization imbalance outliers                model     dataset  accuracy  \\\n",
       "0      standard      none     none  logistic regression       train  0.998699   \n",
       "1      standard      none     none  logistic regression  validation  0.998702   \n",
       "2          none      none     none        random forest       train  0.999997   \n",
       "3          none      none     none        random forest  validation  0.998853   \n",
       "\n",
       "     recall  precision  f1_score  \n",
       "0  0.001913   0.161765  0.003782  \n",
       "1  0.003043   0.263158  0.006017  \n",
       "2  0.997391   1.000000  0.998694  \n",
       "3  0.157638   0.773134  0.261881  "
      ]
     },
     "execution_count": 163,
     "metadata": {},
     "output_type": "execute_result"
    }
   ],
   "source": [
    "df_eval_models"
   ]
  },
  {
   "cell_type": "code",
   "execution_count": 164,
   "metadata": {},
   "outputs": [
    {
     "data": {
      "image/png": "[encoded data removed]",
      "text/plain": [
       "<Figure size 640x480 with 2 Axes>"
      ]
     },
     "metadata": {},
     "output_type": "display_data"
    }
   ],
   "source": [
    "c_model_eval.plot_confusion_matrix()"
   ]
  },
  {
   "cell_type": "markdown",
   "metadata": {},
   "source": [
    "#### XGB"
   ]
  },
  {
   "cell_type": "code",
   "execution_count": 165,
   "metadata": {},
   "outputs": [
    {
     "data": {
      "text/plain": [
       "((4453834, 9), (4453834,), (1272524, 9), (1272524,))"
      ]
     },
     "execution_count": 165,
     "metadata": {},
     "output_type": "execute_result"
    }
   ],
   "source": [
    "normalize = None\n",
    "\n",
    "data_prep_train = PrepDataset(\n",
    "    df = df_train, \n",
    "    df_name = \"train\", \n",
    "    outliers = outliers,\n",
    "    imbalance = imbalance,\n",
    "    normalize = normalize\n",
    "    )\n",
    "\n",
    "x_train, y_train = data_prep_train.return_x_y()\n",
    "\n",
    "data_prep_val = PrepDataset(\n",
    "    df = df_val, \n",
    "    df_name = \"validation\", \n",
    "    outliers= outliers, \n",
    "    imbalance = imbalance,\n",
    "    normalize = normalize)\n",
    "\n",
    "x_val, y_val = data_prep_val.return_x_y()\n",
    "\n",
    "x_train.shape, y_train.shape, x_val.shape, y_val.shape"
   ]
  },
  {
   "cell_type": "code",
   "execution_count": 166,
   "metadata": {},
   "outputs": [],
   "source": [
    "xgb_class = XGBClassifier(n_jobs = -1, random_state = seed)\n",
    "\n",
    "c_model_eval = ClassicModelsEvaluation(\n",
    "    x_train = x_train,\n",
    "    y_train = y_train,\n",
    "    x_val = x_val, \n",
    "    y_val = y_val,\n",
    "    df_eval = df_eval_models,\n",
    "    imbalance = imbalance,\n",
    "    outliers = outliers,\n",
    "    normalize = normalize,\n",
    "    model = xgb_class,\n",
    "    model_name = \"xgb\",\n",
    "    compute_cm = True\n",
    ")"
   ]
  },
  {
   "cell_type": "code",
   "execution_count": 167,
   "metadata": {},
   "outputs": [
    {
     "data": {
      "text/html": [
       "<div>\n",
       "<style scoped>\n",
       "    .dataframe tbody tr th:only-of-type {\n",
       "        vertical-align: middle;\n",
       "    }\n",
       "\n",
       "    .dataframe tbody tr th {\n",
       "        vertical-align: top;\n",
       "    }\n",
       "\n",
       "    .dataframe thead th {\n",
       "        text-align: right;\n",
       "    }\n",
       "</style>\n",
       "<table border=\"1\" class=\"dataframe\">\n",
       "  <thead>\n",
       "    <tr style=\"text-align: right;\">\n",
       "      <th></th>\n",
       "      <th>normalization</th>\n",
       "      <th>imbalance</th>\n",
       "      <th>outliers</th>\n",
       "      <th>model</th>\n",
       "      <th>dataset</th>\n",
       "      <th>accuracy</th>\n",
       "      <th>recall</th>\n",
       "      <th>precision</th>\n",
       "      <th>f1_score</th>\n",
       "    </tr>\n",
       "  </thead>\n",
       "  <tbody>\n",
       "    <tr>\n",
       "      <th>0</th>\n",
       "      <td>standard</td>\n",
       "      <td>none</td>\n",
       "      <td>none</td>\n",
       "      <td>logistic regression</td>\n",
       "      <td>train</td>\n",
       "      <td>0.998699</td>\n",
       "      <td>0.001913</td>\n",
       "      <td>0.161765</td>\n",
       "      <td>0.003782</td>\n",
       "    </tr>\n",
       "    <tr>\n",
       "      <th>1</th>\n",
       "      <td>standard</td>\n",
       "      <td>none</td>\n",
       "      <td>none</td>\n",
       "      <td>logistic regression</td>\n",
       "      <td>validation</td>\n",
       "      <td>0.998702</td>\n",
       "      <td>0.003043</td>\n",
       "      <td>0.263158</td>\n",
       "      <td>0.006017</td>\n",
       "    </tr>\n",
       "    <tr>\n",
       "      <th>2</th>\n",
       "      <td>none</td>\n",
       "      <td>none</td>\n",
       "      <td>none</td>\n",
       "      <td>random forest</td>\n",
       "      <td>train</td>\n",
       "      <td>0.999997</td>\n",
       "      <td>0.997391</td>\n",
       "      <td>1.000000</td>\n",
       "      <td>0.998694</td>\n",
       "    </tr>\n",
       "    <tr>\n",
       "      <th>3</th>\n",
       "      <td>none</td>\n",
       "      <td>none</td>\n",
       "      <td>none</td>\n",
       "      <td>random forest</td>\n",
       "      <td>validation</td>\n",
       "      <td>0.998853</td>\n",
       "      <td>0.157638</td>\n",
       "      <td>0.773134</td>\n",
       "      <td>0.261881</td>\n",
       "    </tr>\n",
       "    <tr>\n",
       "      <th>4</th>\n",
       "      <td>none</td>\n",
       "      <td>none</td>\n",
       "      <td>none</td>\n",
       "      <td>xgb</td>\n",
       "      <td>train</td>\n",
       "      <td>0.998775</td>\n",
       "      <td>0.103322</td>\n",
       "      <td>0.665174</td>\n",
       "      <td>0.178862</td>\n",
       "    </tr>\n",
       "    <tr>\n",
       "      <th>5</th>\n",
       "      <td>none</td>\n",
       "      <td>none</td>\n",
       "      <td>none</td>\n",
       "      <td>xgb</td>\n",
       "      <td>validation</td>\n",
       "      <td>0.998744</td>\n",
       "      <td>0.090079</td>\n",
       "      <td>0.589641</td>\n",
       "      <td>0.156283</td>\n",
       "    </tr>\n",
       "  </tbody>\n",
       "</table>\n",
       "</div>"
      ],
      "text/plain": [
       "  normalization imbalance outliers                model     dataset  accuracy  \\\n",
       "0      standard      none     none  logistic regression       train  0.998699   \n",
       "1      standard      none     none  logistic regression  validation  0.998702   \n",
       "2          none      none     none        random forest       train  0.999997   \n",
       "3          none      none     none        random forest  validation  0.998853   \n",
       "4          none      none     none                  xgb       train  0.998775   \n",
       "5          none      none     none                  xgb  validation  0.998744   \n",
       "\n",
       "     recall  precision  f1_score  \n",
       "0  0.001913   0.161765  0.003782  \n",
       "1  0.003043   0.263158  0.006017  \n",
       "2  0.997391   1.000000  0.998694  \n",
       "3  0.157638   0.773134  0.261881  \n",
       "4  0.103322   0.665174  0.178862  \n",
       "5  0.090079   0.589641  0.156283  "
      ]
     },
     "execution_count": 167,
     "metadata": {},
     "output_type": "execute_result"
    }
   ],
   "source": [
    "df_eval_models"
   ]
  },
  {
   "cell_type": "code",
   "execution_count": 168,
   "metadata": {},
   "outputs": [
    {
     "data": {
      "image/png": "[encoded data removed]",
      "text/plain": [
       "<Figure size 640x480 with 2 Axes>"
      ]
     },
     "metadata": {},
     "output_type": "display_data"
    }
   ],
   "source": [
    "c_model_eval.plot_confusion_matrix()"
   ]
  },
  {
   "cell_type": "markdown",
   "metadata": {},
   "source": [
    "#### LGBM"
   ]
  },
  {
   "cell_type": "code",
   "execution_count": 169,
   "metadata": {},
   "outputs": [
    {
     "data": {
      "text/plain": [
       "((4453834, 9), (4453834,), (1272524, 9), (1272524,))"
      ]
     },
     "execution_count": 169,
     "metadata": {},
     "output_type": "execute_result"
    }
   ],
   "source": [
    "normalize = None\n",
    "\n",
    "data_prep_train = PrepDataset(\n",
    "    df = df_train, \n",
    "    df_name = \"train\", \n",
    "    outliers = outliers,\n",
    "    imbalance = imbalance,\n",
    "    normalize = normalize\n",
    "    )\n",
    "\n",
    "x_train, y_train = data_prep_train.return_x_y()\n",
    "\n",
    "data_prep_val = PrepDataset(\n",
    "    df = df_val, \n",
    "    df_name = \"validation\", \n",
    "    outliers= outliers, \n",
    "    imbalance = imbalance,\n",
    "    normalize = normalize)\n",
    "\n",
    "x_val, y_val = data_prep_val.return_x_y()\n",
    "\n",
    "x_train.shape, y_train.shape, x_val.shape, y_val.shape"
   ]
  },
  {
   "cell_type": "code",
   "execution_count": 170,
   "metadata": {},
   "outputs": [
    {
     "name": "stdout",
     "output_type": "stream",
     "text": [
      "[LightGBM] [Info] Number of positive: 5749, number of negative: 4448085\n",
      "[LightGBM] [Info] Auto-choosing row-wise multi-threading, the overhead of testing was 0.006166 seconds.\n",
      "You can set `force_row_wise=true` to remove the overhead.\n",
      "And if memory is not enough, you can set `force_col_wise=true`.\n",
      "[LightGBM] [Info] Total Bins 775\n",
      "[LightGBM] [Info] Number of data points in the train set: 4453834, number of used features: 8\n",
      "[LightGBM] [Info] [binary:BoostFromScore]: pavg=0.001291 -> initscore=-6.651203\n",
      "[LightGBM] [Info] Start training from score -6.651203\n"
     ]
    }
   ],
   "source": [
    "lgbm_class = LGBMClassifier(n_jobs = -1, random_state = seed)\n",
    "\n",
    "c_model_eval = ClassicModelsEvaluation(\n",
    "    x_train = x_train,\n",
    "    y_train = y_train,\n",
    "    x_val = x_val, \n",
    "    y_val = y_val,\n",
    "    df_eval = df_eval_models,\n",
    "    imbalance = imbalance,\n",
    "    outliers = outliers,\n",
    "    normalize = normalize,\n",
    "    model = lgbm_class,\n",
    "    model_name = \"lgbm\",\n",
    "    compute_cm = True\n",
    ")"
   ]
  },
  {
   "cell_type": "code",
   "execution_count": 171,
   "metadata": {},
   "outputs": [
    {
     "data": {
      "text/html": [
       "<div>\n",
       "<style scoped>\n",
       "    .dataframe tbody tr th:only-of-type {\n",
       "        vertical-align: middle;\n",
       "    }\n",
       "\n",
       "    .dataframe tbody tr th {\n",
       "        vertical-align: top;\n",
       "    }\n",
       "\n",
       "    .dataframe thead th {\n",
       "        text-align: right;\n",
       "    }\n",
       "</style>\n",
       "<table border=\"1\" class=\"dataframe\">\n",
       "  <thead>\n",
       "    <tr style=\"text-align: right;\">\n",
       "      <th></th>\n",
       "      <th>normalization</th>\n",
       "      <th>imbalance</th>\n",
       "      <th>outliers</th>\n",
       "      <th>model</th>\n",
       "      <th>dataset</th>\n",
       "      <th>accuracy</th>\n",
       "      <th>recall</th>\n",
       "      <th>precision</th>\n",
       "      <th>f1_score</th>\n",
       "    </tr>\n",
       "  </thead>\n",
       "  <tbody>\n",
       "    <tr>\n",
       "      <th>0</th>\n",
       "      <td>standard</td>\n",
       "      <td>none</td>\n",
       "      <td>none</td>\n",
       "      <td>logistic regression</td>\n",
       "      <td>train</td>\n",
       "      <td>0.998699</td>\n",
       "      <td>0.001913</td>\n",
       "      <td>0.161765</td>\n",
       "      <td>0.003782</td>\n",
       "    </tr>\n",
       "    <tr>\n",
       "      <th>1</th>\n",
       "      <td>standard</td>\n",
       "      <td>none</td>\n",
       "      <td>none</td>\n",
       "      <td>logistic regression</td>\n",
       "      <td>validation</td>\n",
       "      <td>0.998702</td>\n",
       "      <td>0.003043</td>\n",
       "      <td>0.263158</td>\n",
       "      <td>0.006017</td>\n",
       "    </tr>\n",
       "    <tr>\n",
       "      <th>2</th>\n",
       "      <td>none</td>\n",
       "      <td>none</td>\n",
       "      <td>none</td>\n",
       "      <td>random forest</td>\n",
       "      <td>train</td>\n",
       "      <td>0.999997</td>\n",
       "      <td>0.997391</td>\n",
       "      <td>1.000000</td>\n",
       "      <td>0.998694</td>\n",
       "    </tr>\n",
       "    <tr>\n",
       "      <th>3</th>\n",
       "      <td>none</td>\n",
       "      <td>none</td>\n",
       "      <td>none</td>\n",
       "      <td>random forest</td>\n",
       "      <td>validation</td>\n",
       "      <td>0.998853</td>\n",
       "      <td>0.157638</td>\n",
       "      <td>0.773134</td>\n",
       "      <td>0.261881</td>\n",
       "    </tr>\n",
       "    <tr>\n",
       "      <th>4</th>\n",
       "      <td>none</td>\n",
       "      <td>none</td>\n",
       "      <td>none</td>\n",
       "      <td>xgb</td>\n",
       "      <td>train</td>\n",
       "      <td>0.998775</td>\n",
       "      <td>0.103322</td>\n",
       "      <td>0.665174</td>\n",
       "      <td>0.178862</td>\n",
       "    </tr>\n",
       "    <tr>\n",
       "      <th>5</th>\n",
       "      <td>none</td>\n",
       "      <td>none</td>\n",
       "      <td>none</td>\n",
       "      <td>xgb</td>\n",
       "      <td>validation</td>\n",
       "      <td>0.998744</td>\n",
       "      <td>0.090079</td>\n",
       "      <td>0.589641</td>\n",
       "      <td>0.156283</td>\n",
       "    </tr>\n",
       "    <tr>\n",
       "      <th>6</th>\n",
       "      <td>none</td>\n",
       "      <td>none</td>\n",
       "      <td>none</td>\n",
       "      <td>lgbm</td>\n",
       "      <td>train</td>\n",
       "      <td>0.998846</td>\n",
       "      <td>0.139503</td>\n",
       "      <td>0.805221</td>\n",
       "      <td>0.237806</td>\n",
       "    </tr>\n",
       "    <tr>\n",
       "      <th>7</th>\n",
       "      <td>none</td>\n",
       "      <td>none</td>\n",
       "      <td>none</td>\n",
       "      <td>lgbm</td>\n",
       "      <td>validation</td>\n",
       "      <td>0.998788</td>\n",
       "      <td>0.111382</td>\n",
       "      <td>0.690566</td>\n",
       "      <td>0.191824</td>\n",
       "    </tr>\n",
       "  </tbody>\n",
       "</table>\n",
       "</div>"
      ],
      "text/plain": [
       "  normalization imbalance outliers                model     dataset  accuracy  \\\n",
       "0      standard      none     none  logistic regression       train  0.998699   \n",
       "1      standard      none     none  logistic regression  validation  0.998702   \n",
       "2          none      none     none        random forest       train  0.999997   \n",
       "3          none      none     none        random forest  validation  0.998853   \n",
       "4          none      none     none                  xgb       train  0.998775   \n",
       "5          none      none     none                  xgb  validation  0.998744   \n",
       "6          none      none     none                 lgbm       train  0.998846   \n",
       "7          none      none     none                 lgbm  validation  0.998788   \n",
       "\n",
       "     recall  precision  f1_score  \n",
       "0  0.001913   0.161765  0.003782  \n",
       "1  0.003043   0.263158  0.006017  \n",
       "2  0.997391   1.000000  0.998694  \n",
       "3  0.157638   0.773134  0.261881  \n",
       "4  0.103322   0.665174  0.178862  \n",
       "5  0.090079   0.589641  0.156283  \n",
       "6  0.139503   0.805221  0.237806  \n",
       "7  0.111382   0.690566  0.191824  "
      ]
     },
     "execution_count": 171,
     "metadata": {},
     "output_type": "execute_result"
    }
   ],
   "source": [
    "df_eval_models"
   ]
  },
  {
   "cell_type": "code",
   "execution_count": 172,
   "metadata": {},
   "outputs": [
    {
     "data": {
      "image/png": "[encoded data removed]",
      "text/plain": [
       "<Figure size 640x480 with 2 Axes>"
      ]
     },
     "metadata": {},
     "output_type": "display_data"
    }
   ],
   "source": [
    "c_model_eval.plot_confusion_matrix()"
   ]
  },
  {
   "cell_type": "markdown",
   "metadata": {},
   "source": [
    "#### Evalatuion of Results "
   ]
  },
  {
   "cell_type": "code",
   "execution_count": 176,
   "metadata": {},
   "outputs": [
    {
     "data": {
      "text/html": [
       "<div>\n",
       "<style scoped>\n",
       "    .dataframe tbody tr th:only-of-type {\n",
       "        vertical-align: middle;\n",
       "    }\n",
       "\n",
       "    .dataframe tbody tr th {\n",
       "        vertical-align: top;\n",
       "    }\n",
       "\n",
       "    .dataframe thead th {\n",
       "        text-align: right;\n",
       "    }\n",
       "</style>\n",
       "<table border=\"1\" class=\"dataframe\">\n",
       "  <thead>\n",
       "    <tr style=\"text-align: right;\">\n",
       "      <th></th>\n",
       "      <th>normalization</th>\n",
       "      <th>imbalance</th>\n",
       "      <th>outliers</th>\n",
       "      <th>model</th>\n",
       "      <th>dataset</th>\n",
       "      <th>accuracy</th>\n",
       "      <th>recall</th>\n",
       "      <th>precision</th>\n",
       "      <th>f1_score</th>\n",
       "    </tr>\n",
       "  </thead>\n",
       "  <tbody>\n",
       "    <tr>\n",
       "      <th>0</th>\n",
       "      <td>standard</td>\n",
       "      <td>none</td>\n",
       "      <td>none</td>\n",
       "      <td>logistic regression</td>\n",
       "      <td>train</td>\n",
       "      <td>0.998699</td>\n",
       "      <td>0.001913</td>\n",
       "      <td>0.161765</td>\n",
       "      <td>0.003782</td>\n",
       "    </tr>\n",
       "    <tr>\n",
       "      <th>1</th>\n",
       "      <td>standard</td>\n",
       "      <td>none</td>\n",
       "      <td>none</td>\n",
       "      <td>logistic regression</td>\n",
       "      <td>validation</td>\n",
       "      <td>0.998702</td>\n",
       "      <td>0.003043</td>\n",
       "      <td>0.263158</td>\n",
       "      <td>0.006017</td>\n",
       "    </tr>\n",
       "    <tr>\n",
       "      <th>2</th>\n",
       "      <td>none</td>\n",
       "      <td>none</td>\n",
       "      <td>none</td>\n",
       "      <td>random forest</td>\n",
       "      <td>train</td>\n",
       "      <td>0.999997</td>\n",
       "      <td>0.997391</td>\n",
       "      <td>1.000000</td>\n",
       "      <td>0.998694</td>\n",
       "    </tr>\n",
       "    <tr>\n",
       "      <th>3</th>\n",
       "      <td>none</td>\n",
       "      <td>none</td>\n",
       "      <td>none</td>\n",
       "      <td>random forest</td>\n",
       "      <td>validation</td>\n",
       "      <td>0.998853</td>\n",
       "      <td>0.157638</td>\n",
       "      <td>0.773134</td>\n",
       "      <td>0.261881</td>\n",
       "    </tr>\n",
       "    <tr>\n",
       "      <th>4</th>\n",
       "      <td>none</td>\n",
       "      <td>none</td>\n",
       "      <td>none</td>\n",
       "      <td>xgb</td>\n",
       "      <td>train</td>\n",
       "      <td>0.998775</td>\n",
       "      <td>0.103322</td>\n",
       "      <td>0.665174</td>\n",
       "      <td>0.178862</td>\n",
       "    </tr>\n",
       "    <tr>\n",
       "      <th>5</th>\n",
       "      <td>none</td>\n",
       "      <td>none</td>\n",
       "      <td>none</td>\n",
       "      <td>xgb</td>\n",
       "      <td>validation</td>\n",
       "      <td>0.998744</td>\n",
       "      <td>0.090079</td>\n",
       "      <td>0.589641</td>\n",
       "      <td>0.156283</td>\n",
       "    </tr>\n",
       "    <tr>\n",
       "      <th>6</th>\n",
       "      <td>none</td>\n",
       "      <td>none</td>\n",
       "      <td>none</td>\n",
       "      <td>lgbm</td>\n",
       "      <td>train</td>\n",
       "      <td>0.998846</td>\n",
       "      <td>0.139503</td>\n",
       "      <td>0.805221</td>\n",
       "      <td>0.237806</td>\n",
       "    </tr>\n",
       "    <tr>\n",
       "      <th>7</th>\n",
       "      <td>none</td>\n",
       "      <td>none</td>\n",
       "      <td>none</td>\n",
       "      <td>lgbm</td>\n",
       "      <td>validation</td>\n",
       "      <td>0.998788</td>\n",
       "      <td>0.111382</td>\n",
       "      <td>0.690566</td>\n",
       "      <td>0.191824</td>\n",
       "    </tr>\n",
       "  </tbody>\n",
       "</table>\n",
       "</div>"
      ],
      "text/plain": [
       "  normalization imbalance outliers                model     dataset  accuracy  \\\n",
       "0      standard      none     none  logistic regression       train  0.998699   \n",
       "1      standard      none     none  logistic regression  validation  0.998702   \n",
       "2          none      none     none        random forest       train  0.999997   \n",
       "3          none      none     none        random forest  validation  0.998853   \n",
       "4          none      none     none                  xgb       train  0.998775   \n",
       "5          none      none     none                  xgb  validation  0.998744   \n",
       "6          none      none     none                 lgbm       train  0.998846   \n",
       "7          none      none     none                 lgbm  validation  0.998788   \n",
       "\n",
       "     recall  precision  f1_score  \n",
       "0  0.001913   0.161765  0.003782  \n",
       "1  0.003043   0.263158  0.006017  \n",
       "2  0.997391   1.000000  0.998694  \n",
       "3  0.157638   0.773134  0.261881  \n",
       "4  0.103322   0.665174  0.178862  \n",
       "5  0.090079   0.589641  0.156283  \n",
       "6  0.139503   0.805221  0.237806  \n",
       "7  0.111382   0.690566  0.191824  "
      ]
     },
     "execution_count": 176,
     "metadata": {},
     "output_type": "execute_result"
    }
   ],
   "source": [
    "df_eval_models"
   ]
  },
  {
   "cell_type": "markdown",
   "metadata": {},
   "source": [
    "We will continue using lgbm as a model, since outside of random forest offers the best perfomance. The random forest model it is not selected for two reasons, first condisdering that the train dataset is more tha 4 million rows the model is very slow to train rendering it very impractical for later stages where it will be required to train the selected model several times. Second random forest is showing significant overfitting, which of course can be mitigated but at this stage it seems better to choose a model less prone to overfitting and working on improving its perfomance rather than dealing with the random forest models overfitting."
   ]
  },
  {
   "cell_type": "markdown",
   "metadata": {},
   "source": [
    "### Outliers\n",
    "\n",
    "In this section we will try to handle the outliers to see if we can improve the models perfomance"
   ]
  },
  {
   "cell_type": "code",
   "execution_count": 177,
   "metadata": {},
   "outputs": [
    {
     "data": {
      "text/html": [
       "<div>\n",
       "<style scoped>\n",
       "    .dataframe tbody tr th:only-of-type {\n",
       "        vertical-align: middle;\n",
       "    }\n",
       "\n",
       "    .dataframe tbody tr th {\n",
       "        vertical-align: top;\n",
       "    }\n",
       "\n",
       "    .dataframe thead th {\n",
       "        text-align: right;\n",
       "    }\n",
       "</style>\n",
       "<table border=\"1\" class=\"dataframe\">\n",
       "  <thead>\n",
       "    <tr style=\"text-align: right;\">\n",
       "      <th></th>\n",
       "      <th>normalization</th>\n",
       "      <th>imbalance</th>\n",
       "      <th>outliers</th>\n",
       "      <th>model</th>\n",
       "      <th>dataset</th>\n",
       "      <th>accuracy</th>\n",
       "      <th>recall</th>\n",
       "      <th>precision</th>\n",
       "      <th>f1_score</th>\n",
       "    </tr>\n",
       "  </thead>\n",
       "  <tbody>\n",
       "  </tbody>\n",
       "</table>\n",
       "</div>"
      ],
      "text/plain": [
       "Empty DataFrame\n",
       "Columns: [normalization, imbalance, outliers, model, dataset, accuracy, recall, precision, f1_score]\n",
       "Index: []"
      ]
     },
     "execution_count": 177,
     "metadata": {},
     "output_type": "execute_result"
    }
   ],
   "source": [
    "df_eval_outliers = pd.DataFrame(columns = [\"normalization\",\"imbalance\", \"outliers\", \"model\", \"dataset\", \"accuracy\", \"recall\", \"precision\", \"f1_score\"])\n",
    "df_eval_outliers"
   ]
  },
  {
   "cell_type": "code",
   "execution_count": 178,
   "metadata": {},
   "outputs": [],
   "source": [
    "normalize = None\n",
    "imbalance = None"
   ]
  },
  {
   "cell_type": "markdown",
   "metadata": {},
   "source": [
    "#### No method \n",
    "we use this result as a baseline "
   ]
  },
  {
   "cell_type": "code",
   "execution_count": 179,
   "metadata": {},
   "outputs": [
    {
     "data": {
      "text/plain": [
       "((4453834, 9), (4453834,), (1272524, 9), (1272524,))"
      ]
     },
     "execution_count": 179,
     "metadata": {},
     "output_type": "execute_result"
    }
   ],
   "source": [
    "outliers = None\n",
    "\n",
    "data_prep_train = PrepDataset(\n",
    "    df = df_train, \n",
    "    df_name = \"train\", \n",
    "    outliers = outliers,\n",
    "    imbalance = imbalance,\n",
    "    normalize = normalize\n",
    "    )\n",
    "\n",
    "x_train, y_train = data_prep_train.return_x_y()\n",
    "\n",
    "data_prep_val = PrepDataset(\n",
    "    df = df_val, \n",
    "    df_name = \"validation\", \n",
    "    outliers= outliers, \n",
    "    imbalance = imbalance,\n",
    "    normalize = normalize)\n",
    "\n",
    "x_val, y_val = data_prep_val.return_x_y()\n",
    "\n",
    "x_train.shape, y_train.shape, x_val.shape, y_val.shape"
   ]
  },
  {
   "cell_type": "code",
   "execution_count": 180,
   "metadata": {},
   "outputs": [
    {
     "name": "stdout",
     "output_type": "stream",
     "text": [
      "[LightGBM] [Info] Number of positive: 5749, number of negative: 4448085\n",
      "[LightGBM] [Info] Auto-choosing row-wise multi-threading, the overhead of testing was 0.007213 seconds.\n",
      "You can set `force_row_wise=true` to remove the overhead.\n",
      "And if memory is not enough, you can set `force_col_wise=true`.\n",
      "[LightGBM] [Info] Total Bins 775\n",
      "[LightGBM] [Info] Number of data points in the train set: 4453834, number of used features: 8\n",
      "[LightGBM] [Info] [binary:BoostFromScore]: pavg=0.001291 -> initscore=-6.651203\n",
      "[LightGBM] [Info] Start training from score -6.651203\n"
     ]
    }
   ],
   "source": [
    "lgbm_class = LGBMClassifier(n_jobs = -1, random_state = seed)\n",
    "\n",
    "c_model_eval = ClassicModelsEvaluation(\n",
    "    x_train = x_train,\n",
    "    y_train = y_train,\n",
    "    x_val = x_val, \n",
    "    y_val = y_val,\n",
    "    df_eval = df_eval_outliers,\n",
    "    imbalance = imbalance,\n",
    "    outliers = outliers,\n",
    "    normalize = normalize,\n",
    "    model = lgbm_class,\n",
    "    model_name = \"lgbm\",\n",
    "    compute_cm = True\n",
    ")"
   ]
  },
  {
   "cell_type": "code",
   "execution_count": 181,
   "metadata": {},
   "outputs": [
    {
     "data": {
      "text/html": [
       "<div>\n",
       "<style scoped>\n",
       "    .dataframe tbody tr th:only-of-type {\n",
       "        vertical-align: middle;\n",
       "    }\n",
       "\n",
       "    .dataframe tbody tr th {\n",
       "        vertical-align: top;\n",
       "    }\n",
       "\n",
       "    .dataframe thead th {\n",
       "        text-align: right;\n",
       "    }\n",
       "</style>\n",
       "<table border=\"1\" class=\"dataframe\">\n",
       "  <thead>\n",
       "    <tr style=\"text-align: right;\">\n",
       "      <th></th>\n",
       "      <th>normalization</th>\n",
       "      <th>imbalance</th>\n",
       "      <th>outliers</th>\n",
       "      <th>model</th>\n",
       "      <th>dataset</th>\n",
       "      <th>accuracy</th>\n",
       "      <th>recall</th>\n",
       "      <th>precision</th>\n",
       "      <th>f1_score</th>\n",
       "    </tr>\n",
       "  </thead>\n",
       "  <tbody>\n",
       "    <tr>\n",
       "      <th>0</th>\n",
       "      <td>none</td>\n",
       "      <td>none</td>\n",
       "      <td>none</td>\n",
       "      <td>lgbm</td>\n",
       "      <td>train</td>\n",
       "      <td>0.998846</td>\n",
       "      <td>0.139503</td>\n",
       "      <td>0.805221</td>\n",
       "      <td>0.237806</td>\n",
       "    </tr>\n",
       "    <tr>\n",
       "      <th>1</th>\n",
       "      <td>none</td>\n",
       "      <td>none</td>\n",
       "      <td>none</td>\n",
       "      <td>lgbm</td>\n",
       "      <td>validation</td>\n",
       "      <td>0.998788</td>\n",
       "      <td>0.111382</td>\n",
       "      <td>0.690566</td>\n",
       "      <td>0.191824</td>\n",
       "    </tr>\n",
       "  </tbody>\n",
       "</table>\n",
       "</div>"
      ],
      "text/plain": [
       "  normalization imbalance outliers model     dataset  accuracy    recall  \\\n",
       "0          none      none     none  lgbm       train  0.998846  0.139503   \n",
       "1          none      none     none  lgbm  validation  0.998788  0.111382   \n",
       "\n",
       "   precision  f1_score  \n",
       "0   0.805221  0.237806  \n",
       "1   0.690566  0.191824  "
      ]
     },
     "execution_count": 181,
     "metadata": {},
     "output_type": "execute_result"
    }
   ],
   "source": [
    "df_eval_outliers"
   ]
  },
  {
   "cell_type": "code",
   "execution_count": 182,
   "metadata": {},
   "outputs": [
    {
     "data": {
      "image/png": "[encoded data removed]",
      "text/plain": [
       "<Figure size 640x480 with 2 Axes>"
      ]
     },
     "metadata": {},
     "output_type": "display_data"
    }
   ],
   "source": [
    "c_model_eval.plot_confusion_matrix()"
   ]
  },
  {
   "cell_type": "markdown",
   "metadata": {},
   "source": [
    "#### Z score"
   ]
  },
  {
   "cell_type": "code",
   "execution_count": 183,
   "metadata": {},
   "outputs": [
    {
     "data": {
      "text/plain": [
       "((4453834, 9), (4453834,), (1272524, 9), (1272524,))"
      ]
     },
     "execution_count": 183,
     "metadata": {},
     "output_type": "execute_result"
    }
   ],
   "source": [
    "outliers = \"z_score\"\n",
    "\n",
    "data_prep_train = PrepDataset(\n",
    "    df = df_train, \n",
    "    df_name = \"train\", \n",
    "    outliers = outliers,\n",
    "    imbalance = imbalance,\n",
    "    normalize = normalize\n",
    "    )\n",
    "\n",
    "x_train, y_train = data_prep_train.return_x_y()\n",
    "\n",
    "data_prep_val = PrepDataset(\n",
    "    df = df_val, \n",
    "    df_name = \"validation\", \n",
    "    outliers= outliers, \n",
    "    imbalance = imbalance,\n",
    "    normalize = normalize)\n",
    "\n",
    "x_val, y_val = data_prep_val.return_x_y()\n",
    "\n",
    "x_train.shape, y_train.shape, x_val.shape, y_val.shape"
   ]
  },
  {
   "cell_type": "code",
   "execution_count": 184,
   "metadata": {},
   "outputs": [
    {
     "name": "stdout",
     "output_type": "stream",
     "text": [
      "[LightGBM] [Info] Number of positive: 5749, number of negative: 4448085\n",
      "[LightGBM] [Info] Auto-choosing row-wise multi-threading, the overhead of testing was 0.006458 seconds.\n",
      "You can set `force_row_wise=true` to remove the overhead.\n",
      "And if memory is not enough, you can set `force_col_wise=true`.\n",
      "[LightGBM] [Info] Total Bins 775\n",
      "[LightGBM] [Info] Number of data points in the train set: 4453834, number of used features: 8\n",
      "[LightGBM] [Info] [binary:BoostFromScore]: pavg=0.001291 -> initscore=-6.651203\n",
      "[LightGBM] [Info] Start training from score -6.651203\n"
     ]
    }
   ],
   "source": [
    "lgbm_class = LGBMClassifier(n_jobs = -1, random_state = seed)\n",
    "\n",
    "c_model_eval = ClassicModelsEvaluation(\n",
    "    x_train = x_train,\n",
    "    y_train = y_train,\n",
    "    x_val = x_val, \n",
    "    y_val = y_val,\n",
    "    df_eval = df_eval_outliers,\n",
    "    imbalance = imbalance,\n",
    "    outliers = outliers,\n",
    "    normalize = normalize,\n",
    "    model = lgbm_class,\n",
    "    model_name = \"lgbm\",\n",
    "    compute_cm = True\n",
    ")"
   ]
  },
  {
   "cell_type": "code",
   "execution_count": 185,
   "metadata": {},
   "outputs": [
    {
     "data": {
      "text/html": [
       "<div>\n",
       "<style scoped>\n",
       "    .dataframe tbody tr th:only-of-type {\n",
       "        vertical-align: middle;\n",
       "    }\n",
       "\n",
       "    .dataframe tbody tr th {\n",
       "        vertical-align: top;\n",
       "    }\n",
       "\n",
       "    .dataframe thead th {\n",
       "        text-align: right;\n",
       "    }\n",
       "</style>\n",
       "<table border=\"1\" class=\"dataframe\">\n",
       "  <thead>\n",
       "    <tr style=\"text-align: right;\">\n",
       "      <th></th>\n",
       "      <th>normalization</th>\n",
       "      <th>imbalance</th>\n",
       "      <th>outliers</th>\n",
       "      <th>model</th>\n",
       "      <th>dataset</th>\n",
       "      <th>accuracy</th>\n",
       "      <th>recall</th>\n",
       "      <th>precision</th>\n",
       "      <th>f1_score</th>\n",
       "    </tr>\n",
       "  </thead>\n",
       "  <tbody>\n",
       "    <tr>\n",
       "      <th>0</th>\n",
       "      <td>none</td>\n",
       "      <td>none</td>\n",
       "      <td>none</td>\n",
       "      <td>lgbm</td>\n",
       "      <td>train</td>\n",
       "      <td>0.998846</td>\n",
       "      <td>0.139503</td>\n",
       "      <td>0.805221</td>\n",
       "      <td>0.237806</td>\n",
       "    </tr>\n",
       "    <tr>\n",
       "      <th>1</th>\n",
       "      <td>none</td>\n",
       "      <td>none</td>\n",
       "      <td>none</td>\n",
       "      <td>lgbm</td>\n",
       "      <td>validation</td>\n",
       "      <td>0.998788</td>\n",
       "      <td>0.111382</td>\n",
       "      <td>0.690566</td>\n",
       "      <td>0.191824</td>\n",
       "    </tr>\n",
       "    <tr>\n",
       "      <th>2</th>\n",
       "      <td>none</td>\n",
       "      <td>none</td>\n",
       "      <td>z_score</td>\n",
       "      <td>lgbm</td>\n",
       "      <td>train</td>\n",
       "      <td>0.998862</td>\n",
       "      <td>0.160550</td>\n",
       "      <td>0.792955</td>\n",
       "      <td>0.267033</td>\n",
       "    </tr>\n",
       "    <tr>\n",
       "      <th>3</th>\n",
       "      <td>none</td>\n",
       "      <td>none</td>\n",
       "      <td>z_score</td>\n",
       "      <td>lgbm</td>\n",
       "      <td>validation</td>\n",
       "      <td>0.998835</td>\n",
       "      <td>0.156421</td>\n",
       "      <td>0.725989</td>\n",
       "      <td>0.257386</td>\n",
       "    </tr>\n",
       "  </tbody>\n",
       "</table>\n",
       "</div>"
      ],
      "text/plain": [
       "  normalization imbalance outliers model     dataset  accuracy    recall  \\\n",
       "0          none      none     none  lgbm       train  0.998846  0.139503   \n",
       "1          none      none     none  lgbm  validation  0.998788  0.111382   \n",
       "2          none      none  z_score  lgbm       train  0.998862  0.160550   \n",
       "3          none      none  z_score  lgbm  validation  0.998835  0.156421   \n",
       "\n",
       "   precision  f1_score  \n",
       "0   0.805221  0.237806  \n",
       "1   0.690566  0.191824  \n",
       "2   0.792955  0.267033  \n",
       "3   0.725989  0.257386  "
      ]
     },
     "execution_count": 185,
     "metadata": {},
     "output_type": "execute_result"
    }
   ],
   "source": [
    "df_eval_outliers"
   ]
  },
  {
   "cell_type": "code",
   "execution_count": 186,
   "metadata": {},
   "outputs": [
    {
     "data": {
      "image/png": "[encoded data removed]",
      "text/plain": [
       "<Figure size 640x480 with 2 Axes>"
      ]
     },
     "metadata": {},
     "output_type": "display_data"
    }
   ],
   "source": [
    "c_model_eval.plot_confusion_matrix()"
   ]
  },
  {
   "cell_type": "markdown",
   "metadata": {},
   "source": [
    "#### IQR "
   ]
  },
  {
   "cell_type": "code",
   "execution_count": 187,
   "metadata": {},
   "outputs": [
    {
     "data": {
      "text/plain": [
       "((4453834, 9), (4453834,), (1272524, 9), (1272524,))"
      ]
     },
     "execution_count": 187,
     "metadata": {},
     "output_type": "execute_result"
    }
   ],
   "source": [
    "outliers = \"iqr\"\n",
    "\n",
    "data_prep_train = PrepDataset(\n",
    "    df = df_train, \n",
    "    df_name = \"train\", \n",
    "    outliers = outliers,\n",
    "    imbalance = imbalance,\n",
    "    normalize = normalize\n",
    "    )\n",
    "\n",
    "x_train, y_train = data_prep_train.return_x_y()\n",
    "\n",
    "data_prep_val = PrepDataset(\n",
    "    df = df_val, \n",
    "    df_name = \"validation\", \n",
    "    outliers= outliers, \n",
    "    imbalance = imbalance,\n",
    "    normalize = normalize)\n",
    "\n",
    "x_val, y_val = data_prep_val.return_x_y()\n",
    "\n",
    "x_train.shape, y_train.shape, x_val.shape, y_val.shape"
   ]
  },
  {
   "cell_type": "code",
   "execution_count": 188,
   "metadata": {},
   "outputs": [
    {
     "name": "stdout",
     "output_type": "stream",
     "text": [
      "[LightGBM] [Info] Number of positive: 5749, number of negative: 4448085\n",
      "[LightGBM] [Info] Auto-choosing row-wise multi-threading, the overhead of testing was 0.006015 seconds.\n",
      "You can set `force_row_wise=true` to remove the overhead.\n",
      "And if memory is not enough, you can set `force_col_wise=true`.\n",
      "[LightGBM] [Info] Total Bins 775\n",
      "[LightGBM] [Info] Number of data points in the train set: 4453834, number of used features: 8\n",
      "[LightGBM] [Info] [binary:BoostFromScore]: pavg=0.001291 -> initscore=-6.651203\n",
      "[LightGBM] [Info] Start training from score -6.651203\n"
     ]
    }
   ],
   "source": [
    "lgbm_class = LGBMClassifier(n_jobs = -1, random_state = seed)\n",
    "\n",
    "c_model_eval = ClassicModelsEvaluation(\n",
    "    x_train = x_train,\n",
    "    y_train = y_train,\n",
    "    x_val = x_val, \n",
    "    y_val = y_val,\n",
    "    df_eval = df_eval_outliers,\n",
    "    imbalance = imbalance,\n",
    "    outliers = outliers,\n",
    "    normalize = normalize,\n",
    "    model = lgbm_class,\n",
    "    model_name = \"lgbm\",\n",
    "    compute_cm = True\n",
    ")"
   ]
  },
  {
   "cell_type": "code",
   "execution_count": 189,
   "metadata": {},
   "outputs": [
    {
     "data": {
      "text/html": [
       "<div>\n",
       "<style scoped>\n",
       "    .dataframe tbody tr th:only-of-type {\n",
       "        vertical-align: middle;\n",
       "    }\n",
       "\n",
       "    .dataframe tbody tr th {\n",
       "        vertical-align: top;\n",
       "    }\n",
       "\n",
       "    .dataframe thead th {\n",
       "        text-align: right;\n",
       "    }\n",
       "</style>\n",
       "<table border=\"1\" class=\"dataframe\">\n",
       "  <thead>\n",
       "    <tr style=\"text-align: right;\">\n",
       "      <th></th>\n",
       "      <th>normalization</th>\n",
       "      <th>imbalance</th>\n",
       "      <th>outliers</th>\n",
       "      <th>model</th>\n",
       "      <th>dataset</th>\n",
       "      <th>accuracy</th>\n",
       "      <th>recall</th>\n",
       "      <th>precision</th>\n",
       "      <th>f1_score</th>\n",
       "    </tr>\n",
       "  </thead>\n",
       "  <tbody>\n",
       "    <tr>\n",
       "      <th>0</th>\n",
       "      <td>none</td>\n",
       "      <td>none</td>\n",
       "      <td>none</td>\n",
       "      <td>lgbm</td>\n",
       "      <td>train</td>\n",
       "      <td>0.998846</td>\n",
       "      <td>0.139503</td>\n",
       "      <td>0.805221</td>\n",
       "      <td>0.237806</td>\n",
       "    </tr>\n",
       "    <tr>\n",
       "      <th>1</th>\n",
       "      <td>none</td>\n",
       "      <td>none</td>\n",
       "      <td>none</td>\n",
       "      <td>lgbm</td>\n",
       "      <td>validation</td>\n",
       "      <td>0.998788</td>\n",
       "      <td>0.111382</td>\n",
       "      <td>0.690566</td>\n",
       "      <td>0.191824</td>\n",
       "    </tr>\n",
       "    <tr>\n",
       "      <th>2</th>\n",
       "      <td>none</td>\n",
       "      <td>none</td>\n",
       "      <td>z_score</td>\n",
       "      <td>lgbm</td>\n",
       "      <td>train</td>\n",
       "      <td>0.998862</td>\n",
       "      <td>0.160550</td>\n",
       "      <td>0.792955</td>\n",
       "      <td>0.267033</td>\n",
       "    </tr>\n",
       "    <tr>\n",
       "      <th>3</th>\n",
       "      <td>none</td>\n",
       "      <td>none</td>\n",
       "      <td>z_score</td>\n",
       "      <td>lgbm</td>\n",
       "      <td>validation</td>\n",
       "      <td>0.998835</td>\n",
       "      <td>0.156421</td>\n",
       "      <td>0.725989</td>\n",
       "      <td>0.257386</td>\n",
       "    </tr>\n",
       "    <tr>\n",
       "      <th>4</th>\n",
       "      <td>none</td>\n",
       "      <td>none</td>\n",
       "      <td>iqr</td>\n",
       "      <td>lgbm</td>\n",
       "      <td>train</td>\n",
       "      <td>0.998691</td>\n",
       "      <td>0.013568</td>\n",
       "      <td>0.327731</td>\n",
       "      <td>0.026056</td>\n",
       "    </tr>\n",
       "    <tr>\n",
       "      <th>5</th>\n",
       "      <td>none</td>\n",
       "      <td>none</td>\n",
       "      <td>iqr</td>\n",
       "      <td>lgbm</td>\n",
       "      <td>validation</td>\n",
       "      <td>0.997969</td>\n",
       "      <td>0.001217</td>\n",
       "      <td>0.002116</td>\n",
       "      <td>0.001546</td>\n",
       "    </tr>\n",
       "  </tbody>\n",
       "</table>\n",
       "</div>"
      ],
      "text/plain": [
       "  normalization imbalance outliers model     dataset  accuracy    recall  \\\n",
       "0          none      none     none  lgbm       train  0.998846  0.139503   \n",
       "1          none      none     none  lgbm  validation  0.998788  0.111382   \n",
       "2          none      none  z_score  lgbm       train  0.998862  0.160550   \n",
       "3          none      none  z_score  lgbm  validation  0.998835  0.156421   \n",
       "4          none      none      iqr  lgbm       train  0.998691  0.013568   \n",
       "5          none      none      iqr  lgbm  validation  0.997969  0.001217   \n",
       "\n",
       "   precision  f1_score  \n",
       "0   0.805221  0.237806  \n",
       "1   0.690566  0.191824  \n",
       "2   0.792955  0.267033  \n",
       "3   0.725989  0.257386  \n",
       "4   0.327731  0.026056  \n",
       "5   0.002116  0.001546  "
      ]
     },
     "execution_count": 189,
     "metadata": {},
     "output_type": "execute_result"
    }
   ],
   "source": [
    "df_eval_outliers"
   ]
  },
  {
   "cell_type": "code",
   "execution_count": 190,
   "metadata": {},
   "outputs": [
    {
     "data": {
      "image/png": "[encoded data removed]",
      "text/plain": [
       "<Figure size 640x480 with 2 Axes>"
      ]
     },
     "metadata": {},
     "output_type": "display_data"
    }
   ],
   "source": [
    "c_model_eval.plot_confusion_matrix()"
   ]
  },
  {
   "cell_type": "markdown",
   "metadata": {},
   "source": [
    "#### Both"
   ]
  },
  {
   "cell_type": "code",
   "execution_count": 191,
   "metadata": {},
   "outputs": [
    {
     "data": {
      "text/plain": [
       "((4453834, 9), (4453834,), (1272524, 9), (1272524,))"
      ]
     },
     "execution_count": 191,
     "metadata": {},
     "output_type": "execute_result"
    }
   ],
   "source": [
    "outliers = \"both\"\n",
    "\n",
    "data_prep_train = PrepDataset(\n",
    "    df = df_train, \n",
    "    df_name = \"train\", \n",
    "    outliers = outliers,\n",
    "    imbalance = imbalance,\n",
    "    normalize = normalize\n",
    "    )\n",
    "\n",
    "x_train, y_train = data_prep_train.return_x_y()\n",
    "\n",
    "data_prep_val = PrepDataset(\n",
    "    df = df_val, \n",
    "    df_name = \"validation\", \n",
    "    outliers= outliers, \n",
    "    imbalance = imbalance,\n",
    "    normalize = normalize)\n",
    "\n",
    "x_val, y_val = data_prep_val.return_x_y()\n",
    "\n",
    "x_train.shape, y_train.shape, x_val.shape, y_val.shape"
   ]
  },
  {
   "cell_type": "code",
   "execution_count": 192,
   "metadata": {},
   "outputs": [
    {
     "name": "stdout",
     "output_type": "stream",
     "text": [
      "[LightGBM] [Info] Number of positive: 5749, number of negative: 4448085\n",
      "[LightGBM] [Info] Auto-choosing row-wise multi-threading, the overhead of testing was 0.006608 seconds.\n",
      "You can set `force_row_wise=true` to remove the overhead.\n",
      "And if memory is not enough, you can set `force_col_wise=true`.\n",
      "[LightGBM] [Info] Total Bins 775\n",
      "[LightGBM] [Info] Number of data points in the train set: 4453834, number of used features: 8\n",
      "[LightGBM] [Info] [binary:BoostFromScore]: pavg=0.001291 -> initscore=-6.651203\n",
      "[LightGBM] [Info] Start training from score -6.651203\n"
     ]
    }
   ],
   "source": [
    "lgbm_class = LGBMClassifier(n_jobs = -1, random_state = seed)\n",
    "\n",
    "c_model_eval = ClassicModelsEvaluation(\n",
    "    x_train = x_train,\n",
    "    y_train = y_train,\n",
    "    x_val = x_val, \n",
    "    y_val = y_val,\n",
    "    df_eval = df_eval_outliers,\n",
    "    imbalance = imbalance,\n",
    "    outliers = outliers,\n",
    "    normalize = normalize,\n",
    "    model = lgbm_class,\n",
    "    model_name = \"lgbm\",\n",
    "    compute_cm = True\n",
    ")"
   ]
  },
  {
   "cell_type": "code",
   "execution_count": 193,
   "metadata": {},
   "outputs": [
    {
     "data": {
      "text/html": [
       "<div>\n",
       "<style scoped>\n",
       "    .dataframe tbody tr th:only-of-type {\n",
       "        vertical-align: middle;\n",
       "    }\n",
       "\n",
       "    .dataframe tbody tr th {\n",
       "        vertical-align: top;\n",
       "    }\n",
       "\n",
       "    .dataframe thead th {\n",
       "        text-align: right;\n",
       "    }\n",
       "</style>\n",
       "<table border=\"1\" class=\"dataframe\">\n",
       "  <thead>\n",
       "    <tr style=\"text-align: right;\">\n",
       "      <th></th>\n",
       "      <th>normalization</th>\n",
       "      <th>imbalance</th>\n",
       "      <th>outliers</th>\n",
       "      <th>model</th>\n",
       "      <th>dataset</th>\n",
       "      <th>accuracy</th>\n",
       "      <th>recall</th>\n",
       "      <th>precision</th>\n",
       "      <th>f1_score</th>\n",
       "    </tr>\n",
       "  </thead>\n",
       "  <tbody>\n",
       "    <tr>\n",
       "      <th>0</th>\n",
       "      <td>none</td>\n",
       "      <td>none</td>\n",
       "      <td>none</td>\n",
       "      <td>lgbm</td>\n",
       "      <td>train</td>\n",
       "      <td>0.998846</td>\n",
       "      <td>0.139503</td>\n",
       "      <td>0.805221</td>\n",
       "      <td>0.237806</td>\n",
       "    </tr>\n",
       "    <tr>\n",
       "      <th>1</th>\n",
       "      <td>none</td>\n",
       "      <td>none</td>\n",
       "      <td>none</td>\n",
       "      <td>lgbm</td>\n",
       "      <td>validation</td>\n",
       "      <td>0.998788</td>\n",
       "      <td>0.111382</td>\n",
       "      <td>0.690566</td>\n",
       "      <td>0.191824</td>\n",
       "    </tr>\n",
       "    <tr>\n",
       "      <th>2</th>\n",
       "      <td>none</td>\n",
       "      <td>none</td>\n",
       "      <td>z_score</td>\n",
       "      <td>lgbm</td>\n",
       "      <td>train</td>\n",
       "      <td>0.998862</td>\n",
       "      <td>0.160550</td>\n",
       "      <td>0.792955</td>\n",
       "      <td>0.267033</td>\n",
       "    </tr>\n",
       "    <tr>\n",
       "      <th>3</th>\n",
       "      <td>none</td>\n",
       "      <td>none</td>\n",
       "      <td>z_score</td>\n",
       "      <td>lgbm</td>\n",
       "      <td>validation</td>\n",
       "      <td>0.998835</td>\n",
       "      <td>0.156421</td>\n",
       "      <td>0.725989</td>\n",
       "      <td>0.257386</td>\n",
       "    </tr>\n",
       "    <tr>\n",
       "      <th>4</th>\n",
       "      <td>none</td>\n",
       "      <td>none</td>\n",
       "      <td>iqr</td>\n",
       "      <td>lgbm</td>\n",
       "      <td>train</td>\n",
       "      <td>0.998691</td>\n",
       "      <td>0.013568</td>\n",
       "      <td>0.327731</td>\n",
       "      <td>0.026056</td>\n",
       "    </tr>\n",
       "    <tr>\n",
       "      <th>5</th>\n",
       "      <td>none</td>\n",
       "      <td>none</td>\n",
       "      <td>iqr</td>\n",
       "      <td>lgbm</td>\n",
       "      <td>validation</td>\n",
       "      <td>0.997969</td>\n",
       "      <td>0.001217</td>\n",
       "      <td>0.002116</td>\n",
       "      <td>0.001546</td>\n",
       "    </tr>\n",
       "    <tr>\n",
       "      <th>6</th>\n",
       "      <td>none</td>\n",
       "      <td>none</td>\n",
       "      <td>both</td>\n",
       "      <td>lgbm</td>\n",
       "      <td>train</td>\n",
       "      <td>0.998691</td>\n",
       "      <td>0.013568</td>\n",
       "      <td>0.327731</td>\n",
       "      <td>0.026056</td>\n",
       "    </tr>\n",
       "    <tr>\n",
       "      <th>7</th>\n",
       "      <td>none</td>\n",
       "      <td>none</td>\n",
       "      <td>both</td>\n",
       "      <td>lgbm</td>\n",
       "      <td>validation</td>\n",
       "      <td>0.997969</td>\n",
       "      <td>0.001217</td>\n",
       "      <td>0.002116</td>\n",
       "      <td>0.001546</td>\n",
       "    </tr>\n",
       "  </tbody>\n",
       "</table>\n",
       "</div>"
      ],
      "text/plain": [
       "  normalization imbalance outliers model     dataset  accuracy    recall  \\\n",
       "0          none      none     none  lgbm       train  0.998846  0.139503   \n",
       "1          none      none     none  lgbm  validation  0.998788  0.111382   \n",
       "2          none      none  z_score  lgbm       train  0.998862  0.160550   \n",
       "3          none      none  z_score  lgbm  validation  0.998835  0.156421   \n",
       "4          none      none      iqr  lgbm       train  0.998691  0.013568   \n",
       "5          none      none      iqr  lgbm  validation  0.997969  0.001217   \n",
       "6          none      none     both  lgbm       train  0.998691  0.013568   \n",
       "7          none      none     both  lgbm  validation  0.997969  0.001217   \n",
       "\n",
       "   precision  f1_score  \n",
       "0   0.805221  0.237806  \n",
       "1   0.690566  0.191824  \n",
       "2   0.792955  0.267033  \n",
       "3   0.725989  0.257386  \n",
       "4   0.327731  0.026056  \n",
       "5   0.002116  0.001546  \n",
       "6   0.327731  0.026056  \n",
       "7   0.002116  0.001546  "
      ]
     },
     "execution_count": 193,
     "metadata": {},
     "output_type": "execute_result"
    }
   ],
   "source": [
    "df_eval_outliers"
   ]
  },
  {
   "cell_type": "code",
   "execution_count": 194,
   "metadata": {},
   "outputs": [
    {
     "data": {
      "image/png": "[encoded data removed]",
      "text/plain": [
       "<Figure size 640x480 with 2 Axes>"
      ]
     },
     "metadata": {},
     "output_type": "display_data"
    }
   ],
   "source": [
    "c_model_eval.plot_confusion_matrix()"
   ]
  },
  {
   "cell_type": "markdown",
   "metadata": {},
   "source": [
    "#### Evaluation of results"
   ]
  },
  {
   "cell_type": "code",
   "execution_count": 195,
   "metadata": {},
   "outputs": [
    {
     "data": {
      "text/html": [
       "<div>\n",
       "<style scoped>\n",
       "    .dataframe tbody tr th:only-of-type {\n",
       "        vertical-align: middle;\n",
       "    }\n",
       "\n",
       "    .dataframe tbody tr th {\n",
       "        vertical-align: top;\n",
       "    }\n",
       "\n",
       "    .dataframe thead th {\n",
       "        text-align: right;\n",
       "    }\n",
       "</style>\n",
       "<table border=\"1\" class=\"dataframe\">\n",
       "  <thead>\n",
       "    <tr style=\"text-align: right;\">\n",
       "      <th></th>\n",
       "      <th>normalization</th>\n",
       "      <th>imbalance</th>\n",
       "      <th>outliers</th>\n",
       "      <th>model</th>\n",
       "      <th>dataset</th>\n",
       "      <th>accuracy</th>\n",
       "      <th>recall</th>\n",
       "      <th>precision</th>\n",
       "      <th>f1_score</th>\n",
       "    </tr>\n",
       "  </thead>\n",
       "  <tbody>\n",
       "    <tr>\n",
       "      <th>0</th>\n",
       "      <td>none</td>\n",
       "      <td>none</td>\n",
       "      <td>none</td>\n",
       "      <td>lgbm</td>\n",
       "      <td>train</td>\n",
       "      <td>0.998846</td>\n",
       "      <td>0.139503</td>\n",
       "      <td>0.805221</td>\n",
       "      <td>0.237806</td>\n",
       "    </tr>\n",
       "    <tr>\n",
       "      <th>1</th>\n",
       "      <td>none</td>\n",
       "      <td>none</td>\n",
       "      <td>none</td>\n",
       "      <td>lgbm</td>\n",
       "      <td>validation</td>\n",
       "      <td>0.998788</td>\n",
       "      <td>0.111382</td>\n",
       "      <td>0.690566</td>\n",
       "      <td>0.191824</td>\n",
       "    </tr>\n",
       "    <tr>\n",
       "      <th>2</th>\n",
       "      <td>none</td>\n",
       "      <td>none</td>\n",
       "      <td>z_score</td>\n",
       "      <td>lgbm</td>\n",
       "      <td>train</td>\n",
       "      <td>0.998862</td>\n",
       "      <td>0.160550</td>\n",
       "      <td>0.792955</td>\n",
       "      <td>0.267033</td>\n",
       "    </tr>\n",
       "    <tr>\n",
       "      <th>3</th>\n",
       "      <td>none</td>\n",
       "      <td>none</td>\n",
       "      <td>z_score</td>\n",
       "      <td>lgbm</td>\n",
       "      <td>validation</td>\n",
       "      <td>0.998835</td>\n",
       "      <td>0.156421</td>\n",
       "      <td>0.725989</td>\n",
       "      <td>0.257386</td>\n",
       "    </tr>\n",
       "    <tr>\n",
       "      <th>4</th>\n",
       "      <td>none</td>\n",
       "      <td>none</td>\n",
       "      <td>iqr</td>\n",
       "      <td>lgbm</td>\n",
       "      <td>train</td>\n",
       "      <td>0.998691</td>\n",
       "      <td>0.013568</td>\n",
       "      <td>0.327731</td>\n",
       "      <td>0.026056</td>\n",
       "    </tr>\n",
       "    <tr>\n",
       "      <th>5</th>\n",
       "      <td>none</td>\n",
       "      <td>none</td>\n",
       "      <td>iqr</td>\n",
       "      <td>lgbm</td>\n",
       "      <td>validation</td>\n",
       "      <td>0.997969</td>\n",
       "      <td>0.001217</td>\n",
       "      <td>0.002116</td>\n",
       "      <td>0.001546</td>\n",
       "    </tr>\n",
       "    <tr>\n",
       "      <th>6</th>\n",
       "      <td>none</td>\n",
       "      <td>none</td>\n",
       "      <td>both</td>\n",
       "      <td>lgbm</td>\n",
       "      <td>train</td>\n",
       "      <td>0.998691</td>\n",
       "      <td>0.013568</td>\n",
       "      <td>0.327731</td>\n",
       "      <td>0.026056</td>\n",
       "    </tr>\n",
       "    <tr>\n",
       "      <th>7</th>\n",
       "      <td>none</td>\n",
       "      <td>none</td>\n",
       "      <td>both</td>\n",
       "      <td>lgbm</td>\n",
       "      <td>validation</td>\n",
       "      <td>0.997969</td>\n",
       "      <td>0.001217</td>\n",
       "      <td>0.002116</td>\n",
       "      <td>0.001546</td>\n",
       "    </tr>\n",
       "  </tbody>\n",
       "</table>\n",
       "</div>"
      ],
      "text/plain": [
       "  normalization imbalance outliers model     dataset  accuracy    recall  \\\n",
       "0          none      none     none  lgbm       train  0.998846  0.139503   \n",
       "1          none      none     none  lgbm  validation  0.998788  0.111382   \n",
       "2          none      none  z_score  lgbm       train  0.998862  0.160550   \n",
       "3          none      none  z_score  lgbm  validation  0.998835  0.156421   \n",
       "4          none      none      iqr  lgbm       train  0.998691  0.013568   \n",
       "5          none      none      iqr  lgbm  validation  0.997969  0.001217   \n",
       "6          none      none     both  lgbm       train  0.998691  0.013568   \n",
       "7          none      none     both  lgbm  validation  0.997969  0.001217   \n",
       "\n",
       "   precision  f1_score  \n",
       "0   0.805221  0.237806  \n",
       "1   0.690566  0.191824  \n",
       "2   0.792955  0.267033  \n",
       "3   0.725989  0.257386  \n",
       "4   0.327731  0.026056  \n",
       "5   0.002116  0.001546  \n",
       "6   0.327731  0.026056  \n",
       "7   0.002116  0.001546  "
      ]
     },
     "execution_count": 195,
     "metadata": {},
     "output_type": "execute_result"
    }
   ],
   "source": [
    "df_eval_outliers"
   ]
  },
  {
   "cell_type": "markdown",
   "metadata": {},
   "source": [
    "From these result its seems the using z score to deal with outliers is the obvious choice since it imporved perfomance on both train and validation datasets, and it reduced the gap between the two. Other than providing the best results."
   ]
  },
  {
   "cell_type": "markdown",
   "metadata": {},
   "source": [
    "### Imbalance handling"
   ]
  },
  {
   "cell_type": "code",
   "execution_count": 281,
   "metadata": {},
   "outputs": [
    {
     "data": {
      "text/html": [
       "<div>\n",
       "<style scoped>\n",
       "    .dataframe tbody tr th:only-of-type {\n",
       "        vertical-align: middle;\n",
       "    }\n",
       "\n",
       "    .dataframe tbody tr th {\n",
       "        vertical-align: top;\n",
       "    }\n",
       "\n",
       "    .dataframe thead th {\n",
       "        text-align: right;\n",
       "    }\n",
       "</style>\n",
       "<table border=\"1\" class=\"dataframe\">\n",
       "  <thead>\n",
       "    <tr style=\"text-align: right;\">\n",
       "      <th></th>\n",
       "      <th>normalization</th>\n",
       "      <th>imbalance</th>\n",
       "      <th>outliers</th>\n",
       "      <th>model</th>\n",
       "      <th>dataset</th>\n",
       "      <th>accuracy</th>\n",
       "      <th>recall</th>\n",
       "      <th>precision</th>\n",
       "      <th>f1_score</th>\n",
       "    </tr>\n",
       "  </thead>\n",
       "  <tbody>\n",
       "  </tbody>\n",
       "</table>\n",
       "</div>"
      ],
      "text/plain": [
       "Empty DataFrame\n",
       "Columns: [normalization, imbalance, outliers, model, dataset, accuracy, recall, precision, f1_score]\n",
       "Index: []"
      ]
     },
     "execution_count": 281,
     "metadata": {},
     "output_type": "execute_result"
    }
   ],
   "source": [
    "df_eval_imbalance = pd.DataFrame(columns = [\"normalization\",\"imbalance\", \"outliers\", \"model\", \"dataset\", \"accuracy\", \"recall\", \"precision\", \"f1_score\"])\n",
    "df_eval_imbalance"
   ]
  },
  {
   "cell_type": "code",
   "execution_count": 282,
   "metadata": {},
   "outputs": [
    {
     "data": {
      "text/plain": [
       "0.1290797995614565"
      ]
     },
     "execution_count": 282,
     "metadata": {},
     "output_type": "execute_result"
    }
   ],
   "source": [
    "# Original Imbalance\n",
    "df_train.isFraud.sum() / len(df_train) * 100"
   ]
  },
  {
   "cell_type": "code",
   "execution_count": 283,
   "metadata": {},
   "outputs": [],
   "source": [
    "normalize = None\n",
    "outliers = \"z_score\"\n",
    "sampling_strategy = 0.01"
   ]
  },
  {
   "cell_type": "markdown",
   "metadata": {},
   "source": [
    "#### No method\n",
    "\n",
    "This result will be used as a baseline"
   ]
  },
  {
   "cell_type": "code",
   "execution_count": 284,
   "metadata": {},
   "outputs": [
    {
     "data": {
      "text/plain": [
       "((4453834, 9), (4453834,), (1272524, 9), (1272524,))"
      ]
     },
     "execution_count": 284,
     "metadata": {},
     "output_type": "execute_result"
    }
   ],
   "source": [
    "imbalance = None\n",
    "\n",
    "data_prep_train = PrepDataset(\n",
    "    df = df_train, \n",
    "    df_name = \"train\", \n",
    "    outliers = outliers,\n",
    "    imbalance = imbalance,\n",
    "    normalize = normalize\n",
    "    )\n",
    "\n",
    "x_train, y_train = data_prep_train.return_x_y()\n",
    "\n",
    "data_prep_val = PrepDataset(\n",
    "    df = df_val, \n",
    "    df_name = \"validation\", \n",
    "    outliers= outliers, \n",
    "    imbalance = imbalance,\n",
    "    normalize = normalize)\n",
    "\n",
    "x_val, y_val = data_prep_val.return_x_y()\n",
    "\n",
    "x_train.shape, y_train.shape, x_val.shape, y_val.shape"
   ]
  },
  {
   "cell_type": "code",
   "execution_count": 285,
   "metadata": {},
   "outputs": [
    {
     "name": "stdout",
     "output_type": "stream",
     "text": [
      "[LightGBM] [Info] Number of positive: 5749, number of negative: 4448085\n",
      "[LightGBM] [Info] Auto-choosing row-wise multi-threading, the overhead of testing was 0.006138 seconds.\n",
      "You can set `force_row_wise=true` to remove the overhead.\n",
      "And if memory is not enough, you can set `force_col_wise=true`.\n",
      "[LightGBM] [Info] Total Bins 775\n",
      "[LightGBM] [Info] Number of data points in the train set: 4453834, number of used features: 8\n",
      "[LightGBM] [Info] [binary:BoostFromScore]: pavg=0.001291 -> initscore=-6.651203\n",
      "[LightGBM] [Info] Start training from score -6.651203\n"
     ]
    }
   ],
   "source": [
    "lgbm_class = LGBMClassifier(n_jobs = -1, random_state = seed)\n",
    "\n",
    "c_model_eval = ClassicModelsEvaluation(\n",
    "    x_train = x_train,\n",
    "    y_train = y_train,\n",
    "    x_val = x_val, \n",
    "    y_val = y_val,\n",
    "    df_eval = df_eval_imbalance,\n",
    "    imbalance = imbalance,\n",
    "    outliers = outliers,\n",
    "    normalize = normalize,\n",
    "    model = lgbm_class,\n",
    "    model_name = \"lgbm\",\n",
    "    compute_cm = True\n",
    ")"
   ]
  },
  {
   "cell_type": "code",
   "execution_count": 286,
   "metadata": {},
   "outputs": [
    {
     "data": {
      "text/html": [
       "<div>\n",
       "<style scoped>\n",
       "    .dataframe tbody tr th:only-of-type {\n",
       "        vertical-align: middle;\n",
       "    }\n",
       "\n",
       "    .dataframe tbody tr th {\n",
       "        vertical-align: top;\n",
       "    }\n",
       "\n",
       "    .dataframe thead th {\n",
       "        text-align: right;\n",
       "    }\n",
       "</style>\n",
       "<table border=\"1\" class=\"dataframe\">\n",
       "  <thead>\n",
       "    <tr style=\"text-align: right;\">\n",
       "      <th></th>\n",
       "      <th>normalization</th>\n",
       "      <th>imbalance</th>\n",
       "      <th>outliers</th>\n",
       "      <th>model</th>\n",
       "      <th>dataset</th>\n",
       "      <th>accuracy</th>\n",
       "      <th>recall</th>\n",
       "      <th>precision</th>\n",
       "      <th>f1_score</th>\n",
       "    </tr>\n",
       "  </thead>\n",
       "  <tbody>\n",
       "    <tr>\n",
       "      <th>0</th>\n",
       "      <td>none</td>\n",
       "      <td>none</td>\n",
       "      <td>z_score</td>\n",
       "      <td>lgbm</td>\n",
       "      <td>train</td>\n",
       "      <td>0.998862</td>\n",
       "      <td>0.160550</td>\n",
       "      <td>0.792955</td>\n",
       "      <td>0.267033</td>\n",
       "    </tr>\n",
       "    <tr>\n",
       "      <th>1</th>\n",
       "      <td>none</td>\n",
       "      <td>none</td>\n",
       "      <td>z_score</td>\n",
       "      <td>lgbm</td>\n",
       "      <td>validation</td>\n",
       "      <td>0.998835</td>\n",
       "      <td>0.156421</td>\n",
       "      <td>0.725989</td>\n",
       "      <td>0.257386</td>\n",
       "    </tr>\n",
       "  </tbody>\n",
       "</table>\n",
       "</div>"
      ],
      "text/plain": [
       "  normalization imbalance outliers model     dataset  accuracy    recall  \\\n",
       "0          none      none  z_score  lgbm       train  0.998862  0.160550   \n",
       "1          none      none  z_score  lgbm  validation  0.998835  0.156421   \n",
       "\n",
       "   precision  f1_score  \n",
       "0   0.792955  0.267033  \n",
       "1   0.725989  0.257386  "
      ]
     },
     "execution_count": 286,
     "metadata": {},
     "output_type": "execute_result"
    }
   ],
   "source": [
    "df_eval_imbalance"
   ]
  },
  {
   "cell_type": "code",
   "execution_count": 287,
   "metadata": {},
   "outputs": [
    {
     "data": {
      "image/png": "[encoded data removed]",
      "text/plain": [
       "<Figure size 640x480 with 2 Axes>"
      ]
     },
     "metadata": {},
     "output_type": "display_data"
    }
   ],
   "source": [
    "c_model_eval.plot_confusion_matrix()"
   ]
  },
  {
   "cell_type": "markdown",
   "metadata": {},
   "source": [
    "#### SMOTE"
   ]
  },
  {
   "cell_type": "code",
   "execution_count": 288,
   "metadata": {},
   "outputs": [
    {
     "data": {
      "text/plain": [
       "((4492565, 9), (4492565,), (1272524, 9), (1272524,))"
      ]
     },
     "execution_count": 288,
     "metadata": {},
     "output_type": "execute_result"
    }
   ],
   "source": [
    "imbalance = \"smote\"\n",
    "\n",
    "data_prep_train = PrepDataset(\n",
    "    df = df_train, \n",
    "    df_name = \"train\", \n",
    "    outliers = outliers,\n",
    "    imbalance = imbalance,\n",
    "    normalize = normalize,\n",
    "    sampling_strategy = sampling_strategy\n",
    "    )\n",
    "\n",
    "x_train, y_train = data_prep_train.return_x_y()\n",
    "\n",
    "data_prep_val = PrepDataset(\n",
    "    df = df_val, \n",
    "    df_name = \"validation\", \n",
    "    outliers= outliers, \n",
    "    imbalance = imbalance,\n",
    "    normalize = normalize)\n",
    "\n",
    "x_val, y_val = data_prep_val.return_x_y()\n",
    "\n",
    "x_train.shape, y_train.shape, x_val.shape, y_val.shape"
   ]
  },
  {
   "cell_type": "code",
   "execution_count": 289,
   "metadata": {},
   "outputs": [
    {
     "name": "stdout",
     "output_type": "stream",
     "text": [
      "[LightGBM] [Info] Number of positive: 44480, number of negative: 4448085\n",
      "[LightGBM] [Info] Auto-choosing row-wise multi-threading, the overhead of testing was 0.007295 seconds.\n",
      "You can set `force_row_wise=true` to remove the overhead.\n",
      "And if memory is not enough, you can set `force_col_wise=true`.\n",
      "[LightGBM] [Info] Total Bins 775\n",
      "[LightGBM] [Info] Number of data points in the train set: 4492565, number of used features: 8\n",
      "[LightGBM] [Info] [binary:BoostFromScore]: pavg=0.009901 -> initscore=-4.605189\n",
      "[LightGBM] [Info] Start training from score -4.605189\n"
     ]
    }
   ],
   "source": [
    "lgbm_class = LGBMClassifier(n_jobs = -1, random_state = seed)\n",
    "\n",
    "c_model_eval = ClassicModelsEvaluation(\n",
    "    x_train = x_train,\n",
    "    y_train = y_train,\n",
    "    x_val = x_val, \n",
    "    y_val = y_val,\n",
    "    df_eval = df_eval_imbalance,\n",
    "    imbalance = imbalance,\n",
    "    outliers = outliers,\n",
    "    normalize = normalize,\n",
    "    model = lgbm_class,\n",
    "    model_name = \"lgbm\",\n",
    "    compute_cm = True\n",
    ")"
   ]
  },
  {
   "cell_type": "code",
   "execution_count": 290,
   "metadata": {},
   "outputs": [
    {
     "data": {
      "text/html": [
       "<div>\n",
       "<style scoped>\n",
       "    .dataframe tbody tr th:only-of-type {\n",
       "        vertical-align: middle;\n",
       "    }\n",
       "\n",
       "    .dataframe tbody tr th {\n",
       "        vertical-align: top;\n",
       "    }\n",
       "\n",
       "    .dataframe thead th {\n",
       "        text-align: right;\n",
       "    }\n",
       "</style>\n",
       "<table border=\"1\" class=\"dataframe\">\n",
       "  <thead>\n",
       "    <tr style=\"text-align: right;\">\n",
       "      <th></th>\n",
       "      <th>normalization</th>\n",
       "      <th>imbalance</th>\n",
       "      <th>outliers</th>\n",
       "      <th>model</th>\n",
       "      <th>dataset</th>\n",
       "      <th>accuracy</th>\n",
       "      <th>recall</th>\n",
       "      <th>precision</th>\n",
       "      <th>f1_score</th>\n",
       "    </tr>\n",
       "  </thead>\n",
       "  <tbody>\n",
       "    <tr>\n",
       "      <th>0</th>\n",
       "      <td>none</td>\n",
       "      <td>none</td>\n",
       "      <td>z_score</td>\n",
       "      <td>lgbm</td>\n",
       "      <td>train</td>\n",
       "      <td>0.998862</td>\n",
       "      <td>0.160550</td>\n",
       "      <td>0.792955</td>\n",
       "      <td>0.267033</td>\n",
       "    </tr>\n",
       "    <tr>\n",
       "      <th>1</th>\n",
       "      <td>none</td>\n",
       "      <td>none</td>\n",
       "      <td>z_score</td>\n",
       "      <td>lgbm</td>\n",
       "      <td>validation</td>\n",
       "      <td>0.998835</td>\n",
       "      <td>0.156421</td>\n",
       "      <td>0.725989</td>\n",
       "      <td>0.257386</td>\n",
       "    </tr>\n",
       "    <tr>\n",
       "      <th>2</th>\n",
       "      <td>none</td>\n",
       "      <td>smote</td>\n",
       "      <td>z_score</td>\n",
       "      <td>lgbm</td>\n",
       "      <td>train</td>\n",
       "      <td>0.995328</td>\n",
       "      <td>0.547999</td>\n",
       "      <td>0.965041</td>\n",
       "      <td>0.699045</td>\n",
       "    </tr>\n",
       "    <tr>\n",
       "      <th>3</th>\n",
       "      <td>none</td>\n",
       "      <td>smote</td>\n",
       "      <td>z_score</td>\n",
       "      <td>lgbm</td>\n",
       "      <td>validation</td>\n",
       "      <td>0.998730</td>\n",
       "      <td>0.166159</td>\n",
       "      <td>0.526012</td>\n",
       "      <td>0.252544</td>\n",
       "    </tr>\n",
       "  </tbody>\n",
       "</table>\n",
       "</div>"
      ],
      "text/plain": [
       "  normalization imbalance outliers model     dataset  accuracy    recall  \\\n",
       "0          none      none  z_score  lgbm       train  0.998862  0.160550   \n",
       "1          none      none  z_score  lgbm  validation  0.998835  0.156421   \n",
       "2          none     smote  z_score  lgbm       train  0.995328  0.547999   \n",
       "3          none     smote  z_score  lgbm  validation  0.998730  0.166159   \n",
       "\n",
       "   precision  f1_score  \n",
       "0   0.792955  0.267033  \n",
       "1   0.725989  0.257386  \n",
       "2   0.965041  0.699045  \n",
       "3   0.526012  0.252544  "
      ]
     },
     "execution_count": 290,
     "metadata": {},
     "output_type": "execute_result"
    }
   ],
   "source": [
    "df_eval_imbalance"
   ]
  },
  {
   "cell_type": "code",
   "execution_count": 291,
   "metadata": {},
   "outputs": [
    {
     "data": {
      "image/png": "[encoded data removed]",
      "text/plain": [
       "<Figure size 640x480 with 2 Axes>"
      ]
     },
     "metadata": {},
     "output_type": "display_data"
    }
   ],
   "source": [
    "c_model_eval.plot_confusion_matrix()"
   ]
  },
  {
   "cell_type": "markdown",
   "metadata": {},
   "source": [
    "#### Tomek"
   ]
  },
  {
   "cell_type": "code",
   "execution_count": 292,
   "metadata": {},
   "outputs": [
    {
     "data": {
      "text/plain": [
       "((4450442, 9), (4450442,), (1272524, 9), (1272524,))"
      ]
     },
     "execution_count": 292,
     "metadata": {},
     "output_type": "execute_result"
    }
   ],
   "source": [
    "imbalance = \"tomek\"\n",
    "\n",
    "data_prep_train = PrepDataset(\n",
    "    df = df_train, \n",
    "    df_name = \"train\", \n",
    "    outliers = outliers,\n",
    "    imbalance = imbalance,\n",
    "    normalize = normalize\n",
    "    )\n",
    "\n",
    "x_train, y_train = data_prep_train.return_x_y()\n",
    "\n",
    "data_prep_val = PrepDataset(\n",
    "    df = df_val, \n",
    "    df_name = \"validation\", \n",
    "    outliers= outliers, \n",
    "    imbalance = imbalance,\n",
    "    normalize = normalize)\n",
    "\n",
    "x_val, y_val = data_prep_val.return_x_y()\n",
    "\n",
    "x_train.shape, y_train.shape, x_val.shape, y_val.shape"
   ]
  },
  {
   "cell_type": "code",
   "execution_count": 293,
   "metadata": {},
   "outputs": [
    {
     "name": "stdout",
     "output_type": "stream",
     "text": [
      "[LightGBM] [Info] Number of positive: 5749, number of negative: 4444693\n",
      "[LightGBM] [Info] Auto-choosing row-wise multi-threading, the overhead of testing was 0.006085 seconds.\n",
      "You can set `force_row_wise=true` to remove the overhead.\n",
      "And if memory is not enough, you can set `force_col_wise=true`.\n",
      "[LightGBM] [Info] Total Bins 775\n",
      "[LightGBM] [Info] Number of data points in the train set: 4450442, number of used features: 8\n",
      "[LightGBM] [Info] [binary:BoostFromScore]: pavg=0.001292 -> initscore=-6.650440\n",
      "[LightGBM] [Info] Start training from score -6.650440\n"
     ]
    }
   ],
   "source": [
    "lgbm_class = LGBMClassifier(n_jobs = -1, random_state = seed)\n",
    "\n",
    "c_model_eval = ClassicModelsEvaluation(\n",
    "    x_train = x_train,\n",
    "    y_train = y_train,\n",
    "    x_val = x_val, \n",
    "    y_val = y_val,\n",
    "    df_eval = df_eval_imbalance,\n",
    "    imbalance = imbalance,\n",
    "    outliers = outliers,\n",
    "    normalize = normalize,\n",
    "    model = lgbm_class,\n",
    "    model_name = \"lgbm\",\n",
    "    compute_cm = True\n",
    ")"
   ]
  },
  {
   "cell_type": "code",
   "execution_count": 294,
   "metadata": {},
   "outputs": [
    {
     "data": {
      "text/html": [
       "<div>\n",
       "<style scoped>\n",
       "    .dataframe tbody tr th:only-of-type {\n",
       "        vertical-align: middle;\n",
       "    }\n",
       "\n",
       "    .dataframe tbody tr th {\n",
       "        vertical-align: top;\n",
       "    }\n",
       "\n",
       "    .dataframe thead th {\n",
       "        text-align: right;\n",
       "    }\n",
       "</style>\n",
       "<table border=\"1\" class=\"dataframe\">\n",
       "  <thead>\n",
       "    <tr style=\"text-align: right;\">\n",
       "      <th></th>\n",
       "      <th>normalization</th>\n",
       "      <th>imbalance</th>\n",
       "      <th>outliers</th>\n",
       "      <th>model</th>\n",
       "      <th>dataset</th>\n",
       "      <th>accuracy</th>\n",
       "      <th>recall</th>\n",
       "      <th>precision</th>\n",
       "      <th>f1_score</th>\n",
       "    </tr>\n",
       "  </thead>\n",
       "  <tbody>\n",
       "    <tr>\n",
       "      <th>0</th>\n",
       "      <td>none</td>\n",
       "      <td>none</td>\n",
       "      <td>z_score</td>\n",
       "      <td>lgbm</td>\n",
       "      <td>train</td>\n",
       "      <td>0.998862</td>\n",
       "      <td>0.160550</td>\n",
       "      <td>0.792955</td>\n",
       "      <td>0.267033</td>\n",
       "    </tr>\n",
       "    <tr>\n",
       "      <th>1</th>\n",
       "      <td>none</td>\n",
       "      <td>none</td>\n",
       "      <td>z_score</td>\n",
       "      <td>lgbm</td>\n",
       "      <td>validation</td>\n",
       "      <td>0.998835</td>\n",
       "      <td>0.156421</td>\n",
       "      <td>0.725989</td>\n",
       "      <td>0.257386</td>\n",
       "    </tr>\n",
       "    <tr>\n",
       "      <th>2</th>\n",
       "      <td>none</td>\n",
       "      <td>smote</td>\n",
       "      <td>z_score</td>\n",
       "      <td>lgbm</td>\n",
       "      <td>train</td>\n",
       "      <td>0.995328</td>\n",
       "      <td>0.547999</td>\n",
       "      <td>0.965041</td>\n",
       "      <td>0.699045</td>\n",
       "    </tr>\n",
       "    <tr>\n",
       "      <th>3</th>\n",
       "      <td>none</td>\n",
       "      <td>smote</td>\n",
       "      <td>z_score</td>\n",
       "      <td>lgbm</td>\n",
       "      <td>validation</td>\n",
       "      <td>0.998730</td>\n",
       "      <td>0.166159</td>\n",
       "      <td>0.526012</td>\n",
       "      <td>0.252544</td>\n",
       "    </tr>\n",
       "    <tr>\n",
       "      <th>4</th>\n",
       "      <td>none</td>\n",
       "      <td>tomek</td>\n",
       "      <td>z_score</td>\n",
       "      <td>lgbm</td>\n",
       "      <td>train</td>\n",
       "      <td>0.998863</td>\n",
       "      <td>0.162811</td>\n",
       "      <td>0.792549</td>\n",
       "      <td>0.270130</td>\n",
       "    </tr>\n",
       "    <tr>\n",
       "      <th>5</th>\n",
       "      <td>none</td>\n",
       "      <td>tomek</td>\n",
       "      <td>z_score</td>\n",
       "      <td>lgbm</td>\n",
       "      <td>validation</td>\n",
       "      <td>0.998795</td>\n",
       "      <td>0.149726</td>\n",
       "      <td>0.643979</td>\n",
       "      <td>0.242963</td>\n",
       "    </tr>\n",
       "  </tbody>\n",
       "</table>\n",
       "</div>"
      ],
      "text/plain": [
       "  normalization imbalance outliers model     dataset  accuracy    recall  \\\n",
       "0          none      none  z_score  lgbm       train  0.998862  0.160550   \n",
       "1          none      none  z_score  lgbm  validation  0.998835  0.156421   \n",
       "2          none     smote  z_score  lgbm       train  0.995328  0.547999   \n",
       "3          none     smote  z_score  lgbm  validation  0.998730  0.166159   \n",
       "4          none     tomek  z_score  lgbm       train  0.998863  0.162811   \n",
       "5          none     tomek  z_score  lgbm  validation  0.998795  0.149726   \n",
       "\n",
       "   precision  f1_score  \n",
       "0   0.792955  0.267033  \n",
       "1   0.725989  0.257386  \n",
       "2   0.965041  0.699045  \n",
       "3   0.526012  0.252544  \n",
       "4   0.792549  0.270130  \n",
       "5   0.643979  0.242963  "
      ]
     },
     "execution_count": 294,
     "metadata": {},
     "output_type": "execute_result"
    }
   ],
   "source": [
    "df_eval_imbalance"
   ]
  },
  {
   "cell_type": "code",
   "execution_count": 295,
   "metadata": {},
   "outputs": [
    {
     "data": {
      "image/png": "[encoded data removed]",
      "text/plain": [
       "<Figure size 640x480 with 2 Axes>"
      ]
     },
     "metadata": {},
     "output_type": "display_data"
    }
   ],
   "source": [
    "c_model_eval.plot_confusion_matrix()"
   ]
  },
  {
   "cell_type": "markdown",
   "metadata": {},
   "source": [
    "#### SMOTE & tomek"
   ]
  },
  {
   "cell_type": "code",
   "execution_count": 296,
   "metadata": {},
   "outputs": [
    {
     "data": {
      "text/plain": [
       "((4467097, 9), (4467097,), (1272524, 9), (1272524,))"
      ]
     },
     "execution_count": 296,
     "metadata": {},
     "output_type": "execute_result"
    }
   ],
   "source": [
    "imbalance = \"both\"\n",
    "\n",
    "data_prep_train = PrepDataset(\n",
    "    df = df_train, \n",
    "    df_name = \"train\", \n",
    "    outliers = outliers,\n",
    "    imbalance = imbalance,\n",
    "    normalize = normalize,\n",
    "    sampling_strategy = sampling_strategy\n",
    "    )\n",
    "\n",
    "x_train, y_train = data_prep_train.return_x_y()\n",
    "\n",
    "data_prep_val = PrepDataset(\n",
    "    df = df_val, \n",
    "    df_name = \"validation\", \n",
    "    outliers= outliers, \n",
    "    imbalance = imbalance,\n",
    "    normalize = normalize)\n",
    "\n",
    "x_val, y_val = data_prep_val.return_x_y()\n",
    "\n",
    "x_train.shape, y_train.shape, x_val.shape, y_val.shape"
   ]
  },
  {
   "cell_type": "code",
   "execution_count": 297,
   "metadata": {},
   "outputs": [
    {
     "name": "stdout",
     "output_type": "stream",
     "text": [
      "[LightGBM] [Info] Number of positive: 31746, number of negative: 4435351\n",
      "[LightGBM] [Info] Auto-choosing row-wise multi-threading, the overhead of testing was 0.006675 seconds.\n",
      "You can set `force_row_wise=true` to remove the overhead.\n",
      "And if memory is not enough, you can set `force_col_wise=true`.\n",
      "[LightGBM] [Info] Total Bins 775\n",
      "[LightGBM] [Info] Number of data points in the train set: 4467097, number of used features: 8\n",
      "[LightGBM] [Info] [binary:BoostFromScore]: pavg=0.007107 -> initscore=-4.939595\n",
      "[LightGBM] [Info] Start training from score -4.939595\n"
     ]
    }
   ],
   "source": [
    "lgbm_class = LGBMClassifier(n_jobs = -1, random_state = seed)\n",
    "\n",
    "c_model_eval = ClassicModelsEvaluation(\n",
    "    x_train = x_train,\n",
    "    y_train = y_train,\n",
    "    x_val = x_val, \n",
    "    y_val = y_val,\n",
    "    df_eval = df_eval_imbalance,\n",
    "    imbalance = imbalance,\n",
    "    outliers = outliers,\n",
    "    normalize = normalize,\n",
    "    model = lgbm_class,\n",
    "    model_name = \"lgbm\",\n",
    "    compute_cm = True\n",
    ")"
   ]
  },
  {
   "cell_type": "code",
   "execution_count": 298,
   "metadata": {},
   "outputs": [
    {
     "data": {
      "text/html": [
       "<div>\n",
       "<style scoped>\n",
       "    .dataframe tbody tr th:only-of-type {\n",
       "        vertical-align: middle;\n",
       "    }\n",
       "\n",
       "    .dataframe tbody tr th {\n",
       "        vertical-align: top;\n",
       "    }\n",
       "\n",
       "    .dataframe thead th {\n",
       "        text-align: right;\n",
       "    }\n",
       "</style>\n",
       "<table border=\"1\" class=\"dataframe\">\n",
       "  <thead>\n",
       "    <tr style=\"text-align: right;\">\n",
       "      <th></th>\n",
       "      <th>normalization</th>\n",
       "      <th>imbalance</th>\n",
       "      <th>outliers</th>\n",
       "      <th>model</th>\n",
       "      <th>dataset</th>\n",
       "      <th>accuracy</th>\n",
       "      <th>recall</th>\n",
       "      <th>precision</th>\n",
       "      <th>f1_score</th>\n",
       "    </tr>\n",
       "  </thead>\n",
       "  <tbody>\n",
       "    <tr>\n",
       "      <th>0</th>\n",
       "      <td>none</td>\n",
       "      <td>none</td>\n",
       "      <td>z_score</td>\n",
       "      <td>lgbm</td>\n",
       "      <td>train</td>\n",
       "      <td>0.998862</td>\n",
       "      <td>0.160550</td>\n",
       "      <td>0.792955</td>\n",
       "      <td>0.267033</td>\n",
       "    </tr>\n",
       "    <tr>\n",
       "      <th>1</th>\n",
       "      <td>none</td>\n",
       "      <td>none</td>\n",
       "      <td>z_score</td>\n",
       "      <td>lgbm</td>\n",
       "      <td>validation</td>\n",
       "      <td>0.998835</td>\n",
       "      <td>0.156421</td>\n",
       "      <td>0.725989</td>\n",
       "      <td>0.257386</td>\n",
       "    </tr>\n",
       "    <tr>\n",
       "      <th>2</th>\n",
       "      <td>none</td>\n",
       "      <td>smote</td>\n",
       "      <td>z_score</td>\n",
       "      <td>lgbm</td>\n",
       "      <td>train</td>\n",
       "      <td>0.995328</td>\n",
       "      <td>0.547999</td>\n",
       "      <td>0.965041</td>\n",
       "      <td>0.699045</td>\n",
       "    </tr>\n",
       "    <tr>\n",
       "      <th>3</th>\n",
       "      <td>none</td>\n",
       "      <td>smote</td>\n",
       "      <td>z_score</td>\n",
       "      <td>lgbm</td>\n",
       "      <td>validation</td>\n",
       "      <td>0.998730</td>\n",
       "      <td>0.166159</td>\n",
       "      <td>0.526012</td>\n",
       "      <td>0.252544</td>\n",
       "    </tr>\n",
       "    <tr>\n",
       "      <th>4</th>\n",
       "      <td>none</td>\n",
       "      <td>tomek</td>\n",
       "      <td>z_score</td>\n",
       "      <td>lgbm</td>\n",
       "      <td>train</td>\n",
       "      <td>0.998863</td>\n",
       "      <td>0.162811</td>\n",
       "      <td>0.792549</td>\n",
       "      <td>0.270130</td>\n",
       "    </tr>\n",
       "    <tr>\n",
       "      <th>5</th>\n",
       "      <td>none</td>\n",
       "      <td>tomek</td>\n",
       "      <td>z_score</td>\n",
       "      <td>lgbm</td>\n",
       "      <td>validation</td>\n",
       "      <td>0.998795</td>\n",
       "      <td>0.149726</td>\n",
       "      <td>0.643979</td>\n",
       "      <td>0.242963</td>\n",
       "    </tr>\n",
       "    <tr>\n",
       "      <th>6</th>\n",
       "      <td>none</td>\n",
       "      <td>both</td>\n",
       "      <td>z_score</td>\n",
       "      <td>lgbm</td>\n",
       "      <td>train</td>\n",
       "      <td>0.996570</td>\n",
       "      <td>0.551030</td>\n",
       "      <td>0.942409</td>\n",
       "      <td>0.695436</td>\n",
       "    </tr>\n",
       "    <tr>\n",
       "      <th>7</th>\n",
       "      <td>none</td>\n",
       "      <td>both</td>\n",
       "      <td>z_score</td>\n",
       "      <td>lgbm</td>\n",
       "      <td>validation</td>\n",
       "      <td>0.857013</td>\n",
       "      <td>0.154595</td>\n",
       "      <td>0.001405</td>\n",
       "      <td>0.002784</td>\n",
       "    </tr>\n",
       "  </tbody>\n",
       "</table>\n",
       "</div>"
      ],
      "text/plain": [
       "  normalization imbalance outliers model     dataset  accuracy    recall  \\\n",
       "0          none      none  z_score  lgbm       train  0.998862  0.160550   \n",
       "1          none      none  z_score  lgbm  validation  0.998835  0.156421   \n",
       "2          none     smote  z_score  lgbm       train  0.995328  0.547999   \n",
       "3          none     smote  z_score  lgbm  validation  0.998730  0.166159   \n",
       "4          none     tomek  z_score  lgbm       train  0.998863  0.162811   \n",
       "5          none     tomek  z_score  lgbm  validation  0.998795  0.149726   \n",
       "6          none      both  z_score  lgbm       train  0.996570  0.551030   \n",
       "7          none      both  z_score  lgbm  validation  0.857013  0.154595   \n",
       "\n",
       "   precision  f1_score  \n",
       "0   0.792955  0.267033  \n",
       "1   0.725989  0.257386  \n",
       "2   0.965041  0.699045  \n",
       "3   0.526012  0.252544  \n",
       "4   0.792549  0.270130  \n",
       "5   0.643979  0.242963  \n",
       "6   0.942409  0.695436  \n",
       "7   0.001405  0.002784  "
      ]
     },
     "execution_count": 298,
     "metadata": {},
     "output_type": "execute_result"
    }
   ],
   "source": [
    "df_eval_imbalance"
   ]
  },
  {
   "cell_type": "code",
   "execution_count": 299,
   "metadata": {},
   "outputs": [
    {
     "data": {
      "image/png": "[encoded data removed]",
      "text/plain": [
       "<Figure size 640x480 with 2 Axes>"
      ]
     },
     "metadata": {},
     "output_type": "display_data"
    }
   ],
   "source": [
    "c_model_eval.plot_confusion_matrix()"
   ]
  },
  {
   "cell_type": "markdown",
   "metadata": {},
   "source": [
    "#### Results Evaluation"
   ]
  },
  {
   "cell_type": "code",
   "execution_count": 374,
   "metadata": {},
   "outputs": [
    {
     "data": {
      "text/html": [
       "<div>\n",
       "<style scoped>\n",
       "    .dataframe tbody tr th:only-of-type {\n",
       "        vertical-align: middle;\n",
       "    }\n",
       "\n",
       "    .dataframe tbody tr th {\n",
       "        vertical-align: top;\n",
       "    }\n",
       "\n",
       "    .dataframe thead th {\n",
       "        text-align: right;\n",
       "    }\n",
       "</style>\n",
       "<table border=\"1\" class=\"dataframe\">\n",
       "  <thead>\n",
       "    <tr style=\"text-align: right;\">\n",
       "      <th></th>\n",
       "      <th>normalization</th>\n",
       "      <th>imbalance</th>\n",
       "      <th>outliers</th>\n",
       "      <th>model</th>\n",
       "      <th>dataset</th>\n",
       "      <th>accuracy</th>\n",
       "      <th>recall</th>\n",
       "      <th>precision</th>\n",
       "      <th>f1_score</th>\n",
       "    </tr>\n",
       "  </thead>\n",
       "  <tbody>\n",
       "    <tr>\n",
       "      <th>0</th>\n",
       "      <td>none</td>\n",
       "      <td>none</td>\n",
       "      <td>z_score</td>\n",
       "      <td>lgbm</td>\n",
       "      <td>train</td>\n",
       "      <td>0.998862</td>\n",
       "      <td>0.160550</td>\n",
       "      <td>0.792955</td>\n",
       "      <td>0.267033</td>\n",
       "    </tr>\n",
       "    <tr>\n",
       "      <th>1</th>\n",
       "      <td>none</td>\n",
       "      <td>none</td>\n",
       "      <td>z_score</td>\n",
       "      <td>lgbm</td>\n",
       "      <td>validation</td>\n",
       "      <td>0.998835</td>\n",
       "      <td>0.156421</td>\n",
       "      <td>0.725989</td>\n",
       "      <td>0.257386</td>\n",
       "    </tr>\n",
       "    <tr>\n",
       "      <th>2</th>\n",
       "      <td>none</td>\n",
       "      <td>smote</td>\n",
       "      <td>z_score</td>\n",
       "      <td>lgbm</td>\n",
       "      <td>train</td>\n",
       "      <td>0.995328</td>\n",
       "      <td>0.547999</td>\n",
       "      <td>0.965041</td>\n",
       "      <td>0.699045</td>\n",
       "    </tr>\n",
       "    <tr>\n",
       "      <th>3</th>\n",
       "      <td>none</td>\n",
       "      <td>smote</td>\n",
       "      <td>z_score</td>\n",
       "      <td>lgbm</td>\n",
       "      <td>validation</td>\n",
       "      <td>0.998730</td>\n",
       "      <td>0.166159</td>\n",
       "      <td>0.526012</td>\n",
       "      <td>0.252544</td>\n",
       "    </tr>\n",
       "    <tr>\n",
       "      <th>4</th>\n",
       "      <td>none</td>\n",
       "      <td>tomek</td>\n",
       "      <td>z_score</td>\n",
       "      <td>lgbm</td>\n",
       "      <td>train</td>\n",
       "      <td>0.998863</td>\n",
       "      <td>0.162811</td>\n",
       "      <td>0.792549</td>\n",
       "      <td>0.270130</td>\n",
       "    </tr>\n",
       "    <tr>\n",
       "      <th>5</th>\n",
       "      <td>none</td>\n",
       "      <td>tomek</td>\n",
       "      <td>z_score</td>\n",
       "      <td>lgbm</td>\n",
       "      <td>validation</td>\n",
       "      <td>0.998795</td>\n",
       "      <td>0.149726</td>\n",
       "      <td>0.643979</td>\n",
       "      <td>0.242963</td>\n",
       "    </tr>\n",
       "    <tr>\n",
       "      <th>6</th>\n",
       "      <td>none</td>\n",
       "      <td>both</td>\n",
       "      <td>z_score</td>\n",
       "      <td>lgbm</td>\n",
       "      <td>train</td>\n",
       "      <td>0.996570</td>\n",
       "      <td>0.551030</td>\n",
       "      <td>0.942409</td>\n",
       "      <td>0.695436</td>\n",
       "    </tr>\n",
       "    <tr>\n",
       "      <th>7</th>\n",
       "      <td>none</td>\n",
       "      <td>both</td>\n",
       "      <td>z_score</td>\n",
       "      <td>lgbm</td>\n",
       "      <td>validation</td>\n",
       "      <td>0.857013</td>\n",
       "      <td>0.154595</td>\n",
       "      <td>0.001405</td>\n",
       "      <td>0.002784</td>\n",
       "    </tr>\n",
       "  </tbody>\n",
       "</table>\n",
       "</div>"
      ],
      "text/plain": [
       "  normalization imbalance outliers model     dataset  accuracy    recall  \\\n",
       "0          none      none  z_score  lgbm       train  0.998862  0.160550   \n",
       "1          none      none  z_score  lgbm  validation  0.998835  0.156421   \n",
       "2          none     smote  z_score  lgbm       train  0.995328  0.547999   \n",
       "3          none     smote  z_score  lgbm  validation  0.998730  0.166159   \n",
       "4          none     tomek  z_score  lgbm       train  0.998863  0.162811   \n",
       "5          none     tomek  z_score  lgbm  validation  0.998795  0.149726   \n",
       "6          none      both  z_score  lgbm       train  0.996570  0.551030   \n",
       "7          none      both  z_score  lgbm  validation  0.857013  0.154595   \n",
       "\n",
       "   precision  f1_score  \n",
       "0   0.792955  0.267033  \n",
       "1   0.725989  0.257386  \n",
       "2   0.965041  0.699045  \n",
       "3   0.526012  0.252544  \n",
       "4   0.792549  0.270130  \n",
       "5   0.643979  0.242963  \n",
       "6   0.942409  0.695436  \n",
       "7   0.001405  0.002784  "
      ]
     },
     "execution_count": 374,
     "metadata": {},
     "output_type": "execute_result"
    }
   ],
   "source": [
    "df_eval_imbalance"
   ]
  },
  {
   "cell_type": "markdown",
   "metadata": {},
   "source": [
    "From the results its seems its best to not treat the imbalance, we will however keep using boht the non treated method and smote to see if with hyper parater tuning the smote dataset might perform better."
   ]
  },
  {
   "cell_type": "markdown",
   "metadata": {},
   "source": [
    "### Model Tuning "
   ]
  },
  {
   "cell_type": "code",
   "execution_count": 389,
   "metadata": {},
   "outputs": [
    {
     "data": {
      "text/html": [
       "<div>\n",
       "<style scoped>\n",
       "    .dataframe tbody tr th:only-of-type {\n",
       "        vertical-align: middle;\n",
       "    }\n",
       "\n",
       "    .dataframe tbody tr th {\n",
       "        vertical-align: top;\n",
       "    }\n",
       "\n",
       "    .dataframe thead th {\n",
       "        text-align: right;\n",
       "    }\n",
       "</style>\n",
       "<table border=\"1\" class=\"dataframe\">\n",
       "  <thead>\n",
       "    <tr style=\"text-align: right;\">\n",
       "      <th></th>\n",
       "      <th>normalization</th>\n",
       "      <th>imbalance</th>\n",
       "      <th>outliers</th>\n",
       "      <th>model</th>\n",
       "      <th>dataset</th>\n",
       "      <th>accuracy</th>\n",
       "      <th>recall</th>\n",
       "      <th>precision</th>\n",
       "      <th>f1_score</th>\n",
       "    </tr>\n",
       "  </thead>\n",
       "  <tbody>\n",
       "  </tbody>\n",
       "</table>\n",
       "</div>"
      ],
      "text/plain": [
       "Empty DataFrame\n",
       "Columns: [normalization, imbalance, outliers, model, dataset, accuracy, recall, precision, f1_score]\n",
       "Index: []"
      ]
     },
     "execution_count": 389,
     "metadata": {},
     "output_type": "execute_result"
    }
   ],
   "source": [
    "df_eval_tuning = pd.DataFrame(columns = [\"normalization\",\"imbalance\", \"outliers\", \"model\", \"dataset\", \"accuracy\", \"recall\", \"precision\", \"f1_score\"])\n",
    "df_eval_tuning"
   ]
  },
  {
   "cell_type": "code",
   "execution_count": 390,
   "metadata": {},
   "outputs": [],
   "source": [
    "normalize = None\n",
    "outliers = \"z_score\""
   ]
  },
  {
   "cell_type": "markdown",
   "metadata": {},
   "source": [
    "#### Imbalance None"
   ]
  },
  {
   "cell_type": "code",
   "execution_count": 391,
   "metadata": {},
   "outputs": [
    {
     "data": {
      "text/plain": [
       "((4453834, 9), (4453834,), (1272524, 9), (1272524,))"
      ]
     },
     "execution_count": 391,
     "metadata": {},
     "output_type": "execute_result"
    }
   ],
   "source": [
    "imbalance = None\n",
    "\n",
    "data_prep_train = PrepDataset(\n",
    "    df = df_train, \n",
    "    df_name = \"train\", \n",
    "    outliers = outliers,\n",
    "    imbalance = imbalance,\n",
    "    normalize = normalize\n",
    "    )\n",
    "\n",
    "x_train, y_train = data_prep_train.return_x_y()\n",
    "\n",
    "data_prep_val = PrepDataset(\n",
    "    df = df_val, \n",
    "    df_name = \"validation\", \n",
    "    outliers= outliers, \n",
    "    imbalance = imbalance,\n",
    "    normalize = normalize)\n",
    "\n",
    "x_val, y_val = data_prep_val.return_x_y()\n",
    "\n",
    "x_train.shape, y_train.shape, x_val.shape, y_val.shape"
   ]
  },
  {
   "cell_type": "markdown",
   "metadata": {},
   "source": [
    "##### Baseline Model"
   ]
  },
  {
   "cell_type": "code",
   "execution_count": 392,
   "metadata": {},
   "outputs": [],
   "source": [
    "lgbm_class = LGBMClassifier(n_jobs = -1, random_state = seed)\n",
    "\n",
    "c_model_eval = ClassicModelsEvaluation(\n",
    "    x_train = x_train,\n",
    "    y_train = y_train,\n",
    "    x_val = x_val, \n",
    "    y_val = y_val,\n",
    "    df_eval = df_eval_tuning,\n",
    "    imbalance = imbalance,\n",
    "    outliers = outliers,\n",
    "    normalize = normalize,\n",
    "    model = lgbm_class,\n",
    "    model_name = \"lgbm_baseline\",\n",
    "    compute_cm = True\n",
    ")"
   ]
  },
  {
   "cell_type": "code",
   "execution_count": 393,
   "metadata": {},
   "outputs": [
    {
     "data": {
      "text/html": [
       "<div>\n",
       "<style scoped>\n",
       "    .dataframe tbody tr th:only-of-type {\n",
       "        vertical-align: middle;\n",
       "    }\n",
       "\n",
       "    .dataframe tbody tr th {\n",
       "        vertical-align: top;\n",
       "    }\n",
       "\n",
       "    .dataframe thead th {\n",
       "        text-align: right;\n",
       "    }\n",
       "</style>\n",
       "<table border=\"1\" class=\"dataframe\">\n",
       "  <thead>\n",
       "    <tr style=\"text-align: right;\">\n",
       "      <th></th>\n",
       "      <th>normalization</th>\n",
       "      <th>imbalance</th>\n",
       "      <th>outliers</th>\n",
       "      <th>model</th>\n",
       "      <th>dataset</th>\n",
       "      <th>accuracy</th>\n",
       "      <th>recall</th>\n",
       "      <th>precision</th>\n",
       "      <th>f1_score</th>\n",
       "    </tr>\n",
       "  </thead>\n",
       "  <tbody>\n",
       "    <tr>\n",
       "      <th>0</th>\n",
       "      <td>none</td>\n",
       "      <td>none</td>\n",
       "      <td>z_score</td>\n",
       "      <td>lgbm_baseline</td>\n",
       "      <td>train</td>\n",
       "      <td>0.998862</td>\n",
       "      <td>0.160550</td>\n",
       "      <td>0.792955</td>\n",
       "      <td>0.267033</td>\n",
       "    </tr>\n",
       "    <tr>\n",
       "      <th>1</th>\n",
       "      <td>none</td>\n",
       "      <td>none</td>\n",
       "      <td>z_score</td>\n",
       "      <td>lgbm_baseline</td>\n",
       "      <td>validation</td>\n",
       "      <td>0.998835</td>\n",
       "      <td>0.156421</td>\n",
       "      <td>0.725989</td>\n",
       "      <td>0.257386</td>\n",
       "    </tr>\n",
       "  </tbody>\n",
       "</table>\n",
       "</div>"
      ],
      "text/plain": [
       "  normalization imbalance outliers          model     dataset  accuracy  \\\n",
       "0          none      none  z_score  lgbm_baseline       train  0.998862   \n",
       "1          none      none  z_score  lgbm_baseline  validation  0.998835   \n",
       "\n",
       "     recall  precision  f1_score  \n",
       "0  0.160550   0.792955  0.267033  \n",
       "1  0.156421   0.725989  0.257386  "
      ]
     },
     "execution_count": 393,
     "metadata": {},
     "output_type": "execute_result"
    }
   ],
   "source": [
    "df_eval_tuning"
   ]
  },
  {
   "cell_type": "code",
   "execution_count": 394,
   "metadata": {},
   "outputs": [
    {
     "data": {
      "image/png": "[encoded data removed]",
      "text/plain": [
       "<Figure size 640x480 with 2 Axes>"
      ]
     },
     "metadata": {},
     "output_type": "display_data"
    }
   ],
   "source": [
    "c_model_eval.plot_confusion_matrix()"
   ]
  },
  {
   "cell_type": "markdown",
   "metadata": {},
   "source": [
    "##### Tuned Model"
   ]
  },
  {
   "cell_type": "code",
   "execution_count": 395,
   "metadata": {},
   "outputs": [],
   "source": [
    "compute = False # 52 min to compute\n",
    "nosmote_tuning_json = \"../data/evaluation/tuning_nosmote.json\"\n",
    "\n",
    "if compute:\n",
    "    params_grid = {\n",
    "        \"verbose\" : [-1],\n",
    "        \"n_jobs\" : [-1],\n",
    "        \"n_estimators\" : [100, 1000],\n",
    "        \"random_state\" : [seed],\n",
    "        \"max_depth\" : [7, -1],\n",
    "        \"num_leaves\" : [15, 31],\n",
    "        \"learning_rate\" : [0.01, 0.005, 0.1],\n",
    "        \"min_child_samples\" : [10, 20],\n",
    "        \"subsample\" : [0.8, 1],\n",
    "        \"colsample_bytree\" : [0.8, 1],\n",
    "        \"scale_pos_weight\" : [1, 30, 300]\n",
    "    }\n",
    "\n",
    "    best = {\"f1\": 0}\n",
    "\n",
    "\n",
    "    for idx, params in enumerate(ParameterGrid(params_grid)):\n",
    "        print(idx, \" out of\", len(ParameterGrid(params_grid)) - 1)\n",
    "\n",
    "        lgbm_class = LGBMClassifier(**params)\n",
    "\n",
    "        lgbm_class.fit(x_train, y_train, eval_set=[(x_val, y_val)], callbacks = [early_stopping(stopping_rounds=50)])\n",
    "\n",
    "        y_pred = lgbm_class.predict(x_val)\n",
    "\n",
    "        f1_curr = skm.f1_score(y_val, y_pred, zero_division=0)\n",
    "\n",
    "        if f1_curr > best[\"f1\"]:\n",
    "            best.update(params)\n",
    "            best.update({\"f1\": f1_curr})\n",
    "\n",
    "    with open(nosmote_tuning_json, \"w\") as file:\n",
    "        json.dump(best, file, indent = 4)\n",
    "\n",
    "else:\n",
    "    with open(nosmote_tuning_json, \"r\") as file:\n",
    "        best = json.load(file)"
   ]
  },
  {
   "cell_type": "code",
   "execution_count": 396,
   "metadata": {},
   "outputs": [
    {
     "data": {
      "text/plain": [
       "{'f1': 0.2773455377574371,\n",
       " 'colsample_bytree': 0.8,\n",
       " 'learning_rate': 0.1,\n",
       " 'max_depth': -1,\n",
       " 'min_child_samples': 10,\n",
       " 'n_estimators': 100,\n",
       " 'n_jobs': -1,\n",
       " 'num_leaves': 31,\n",
       " 'random_state': 11,\n",
       " 'scale_pos_weight': 1,\n",
       " 'subsample': 0.8,\n",
       " 'verbose': -1}"
      ]
     },
     "execution_count": 396,
     "metadata": {},
     "output_type": "execute_result"
    }
   ],
   "source": [
    "best"
   ]
  },
  {
   "cell_type": "code",
   "execution_count": 397,
   "metadata": {},
   "outputs": [
    {
     "data": {
      "text/plain": [
       "{'colsample_bytree': 0.8,\n",
       " 'learning_rate': 0.1,\n",
       " 'max_depth': -1,\n",
       " 'min_child_samples': 10,\n",
       " 'n_estimators': 100,\n",
       " 'n_jobs': -1,\n",
       " 'num_leaves': 31,\n",
       " 'random_state': 11,\n",
       " 'scale_pos_weight': 1,\n",
       " 'subsample': 0.8,\n",
       " 'verbose': -1}"
      ]
     },
     "execution_count": 397,
     "metadata": {},
     "output_type": "execute_result"
    }
   ],
   "source": [
    "best_params = best.copy()\n",
    "best_params.pop(\"f1\")\n",
    "best_params"
   ]
  },
  {
   "cell_type": "code",
   "execution_count": 398,
   "metadata": {},
   "outputs": [],
   "source": [
    "lgbm_class = LGBMClassifier(**best_params)\n",
    "\n",
    "c_model_eval = ClassicModelsEvaluation(\n",
    "    x_train = x_train,\n",
    "    y_train = y_train,\n",
    "    x_val = x_val, \n",
    "    y_val = y_val,\n",
    "    df_eval = df_eval_tuning,\n",
    "    imbalance = imbalance,\n",
    "    outliers = outliers,\n",
    "    normalize = normalize,\n",
    "    model = lgbm_class,\n",
    "    model_name = \"lgbm_tuned\",\n",
    "    compute_cm = True\n",
    ")"
   ]
  },
  {
   "cell_type": "code",
   "execution_count": 399,
   "metadata": {},
   "outputs": [
    {
     "data": {
      "text/html": [
       "<div>\n",
       "<style scoped>\n",
       "    .dataframe tbody tr th:only-of-type {\n",
       "        vertical-align: middle;\n",
       "    }\n",
       "\n",
       "    .dataframe tbody tr th {\n",
       "        vertical-align: top;\n",
       "    }\n",
       "\n",
       "    .dataframe thead th {\n",
       "        text-align: right;\n",
       "    }\n",
       "</style>\n",
       "<table border=\"1\" class=\"dataframe\">\n",
       "  <thead>\n",
       "    <tr style=\"text-align: right;\">\n",
       "      <th></th>\n",
       "      <th>normalization</th>\n",
       "      <th>imbalance</th>\n",
       "      <th>outliers</th>\n",
       "      <th>model</th>\n",
       "      <th>dataset</th>\n",
       "      <th>accuracy</th>\n",
       "      <th>recall</th>\n",
       "      <th>precision</th>\n",
       "      <th>f1_score</th>\n",
       "    </tr>\n",
       "  </thead>\n",
       "  <tbody>\n",
       "    <tr>\n",
       "      <th>0</th>\n",
       "      <td>none</td>\n",
       "      <td>none</td>\n",
       "      <td>z_score</td>\n",
       "      <td>lgbm_baseline</td>\n",
       "      <td>train</td>\n",
       "      <td>0.998862</td>\n",
       "      <td>0.160550</td>\n",
       "      <td>0.792955</td>\n",
       "      <td>0.267033</td>\n",
       "    </tr>\n",
       "    <tr>\n",
       "      <th>1</th>\n",
       "      <td>none</td>\n",
       "      <td>none</td>\n",
       "      <td>z_score</td>\n",
       "      <td>lgbm_baseline</td>\n",
       "      <td>validation</td>\n",
       "      <td>0.998835</td>\n",
       "      <td>0.156421</td>\n",
       "      <td>0.725989</td>\n",
       "      <td>0.257386</td>\n",
       "    </tr>\n",
       "    <tr>\n",
       "      <th>2</th>\n",
       "      <td>none</td>\n",
       "      <td>none</td>\n",
       "      <td>z_score</td>\n",
       "      <td>lgbm_tuned</td>\n",
       "      <td>train</td>\n",
       "      <td>0.998847</td>\n",
       "      <td>0.162985</td>\n",
       "      <td>0.742472</td>\n",
       "      <td>0.267294</td>\n",
       "    </tr>\n",
       "    <tr>\n",
       "      <th>3</th>\n",
       "      <td>none</td>\n",
       "      <td>none</td>\n",
       "      <td>z_score</td>\n",
       "      <td>lgbm_tuned</td>\n",
       "      <td>validation</td>\n",
       "      <td>0.998809</td>\n",
       "      <td>0.116859</td>\n",
       "      <td>0.747082</td>\n",
       "      <td>0.202105</td>\n",
       "    </tr>\n",
       "  </tbody>\n",
       "</table>\n",
       "</div>"
      ],
      "text/plain": [
       "  normalization imbalance outliers          model     dataset  accuracy  \\\n",
       "0          none      none  z_score  lgbm_baseline       train  0.998862   \n",
       "1          none      none  z_score  lgbm_baseline  validation  0.998835   \n",
       "2          none      none  z_score     lgbm_tuned       train  0.998847   \n",
       "3          none      none  z_score     lgbm_tuned  validation  0.998809   \n",
       "\n",
       "     recall  precision  f1_score  \n",
       "0  0.160550   0.792955  0.267033  \n",
       "1  0.156421   0.725989  0.257386  \n",
       "2  0.162985   0.742472  0.267294  \n",
       "3  0.116859   0.747082  0.202105  "
      ]
     },
     "execution_count": 399,
     "metadata": {},
     "output_type": "execute_result"
    }
   ],
   "source": [
    "df_eval_tuning"
   ]
  },
  {
   "cell_type": "code",
   "execution_count": 400,
   "metadata": {},
   "outputs": [
    {
     "data": {
      "image/png": "[encoded data removed]",
      "text/plain": [
       "<Figure size 640x480 with 2 Axes>"
      ]
     },
     "metadata": {},
     "output_type": "display_data"
    }
   ],
   "source": [
    "c_model_eval.plot_confusion_matrix()"
   ]
  },
  {
   "cell_type": "markdown",
   "metadata": {},
   "source": [
    "#### Imbalance SMOTE"
   ]
  },
  {
   "cell_type": "code",
   "execution_count": 401,
   "metadata": {},
   "outputs": [
    {
     "data": {
      "text/plain": [
       "((4492565, 9), (4492565,), (1272524, 9), (1272524,))"
      ]
     },
     "execution_count": 401,
     "metadata": {},
     "output_type": "execute_result"
    }
   ],
   "source": [
    "imbalance = \"smote\"\n",
    "sampling_strategy = 0.01\n",
    "\n",
    "data_prep_train = PrepDataset(\n",
    "    df = df_train, \n",
    "    df_name = \"train\", \n",
    "    outliers = outliers,\n",
    "    imbalance = imbalance,\n",
    "    normalize = normalize,\n",
    "    sampling_strategy = sampling_strategy\n",
    "    )\n",
    "\n",
    "x_train, y_train = data_prep_train.return_x_y()\n",
    "\n",
    "data_prep_val = PrepDataset(\n",
    "    df = df_val, \n",
    "    df_name = \"validation\", \n",
    "    outliers= outliers, \n",
    "    imbalance = imbalance,\n",
    "    normalize = normalize)\n",
    "\n",
    "x_val, y_val = data_prep_val.return_x_y()\n",
    "\n",
    "x_train.shape, y_train.shape, x_val.shape, y_val.shape"
   ]
  },
  {
   "cell_type": "markdown",
   "metadata": {},
   "source": [
    "##### Baseline Model"
   ]
  },
  {
   "cell_type": "code",
   "execution_count": 402,
   "metadata": {},
   "outputs": [],
   "source": [
    "lgbm_class = LGBMClassifier(n_jobs = -1, random_state = seed)\n",
    "\n",
    "c_model_eval = ClassicModelsEvaluation(\n",
    "    x_train = x_train,\n",
    "    y_train = y_train,\n",
    "    x_val = x_val, \n",
    "    y_val = y_val,\n",
    "    df_eval = df_eval_tuning,\n",
    "    imbalance = imbalance,\n",
    "    outliers = outliers,\n",
    "    normalize = normalize,\n",
    "    model = lgbm_class,\n",
    "    model_name = \"lgbm_baseline\",\n",
    "    compute_cm = True\n",
    ")"
   ]
  },
  {
   "cell_type": "code",
   "execution_count": 403,
   "metadata": {},
   "outputs": [
    {
     "data": {
      "text/html": [
       "<div>\n",
       "<style scoped>\n",
       "    .dataframe tbody tr th:only-of-type {\n",
       "        vertical-align: middle;\n",
       "    }\n",
       "\n",
       "    .dataframe tbody tr th {\n",
       "        vertical-align: top;\n",
       "    }\n",
       "\n",
       "    .dataframe thead th {\n",
       "        text-align: right;\n",
       "    }\n",
       "</style>\n",
       "<table border=\"1\" class=\"dataframe\">\n",
       "  <thead>\n",
       "    <tr style=\"text-align: right;\">\n",
       "      <th></th>\n",
       "      <th>normalization</th>\n",
       "      <th>imbalance</th>\n",
       "      <th>outliers</th>\n",
       "      <th>model</th>\n",
       "      <th>dataset</th>\n",
       "      <th>accuracy</th>\n",
       "      <th>recall</th>\n",
       "      <th>precision</th>\n",
       "      <th>f1_score</th>\n",
       "    </tr>\n",
       "  </thead>\n",
       "  <tbody>\n",
       "    <tr>\n",
       "      <th>0</th>\n",
       "      <td>none</td>\n",
       "      <td>none</td>\n",
       "      <td>z_score</td>\n",
       "      <td>lgbm_baseline</td>\n",
       "      <td>train</td>\n",
       "      <td>0.998862</td>\n",
       "      <td>0.160550</td>\n",
       "      <td>0.792955</td>\n",
       "      <td>0.267033</td>\n",
       "    </tr>\n",
       "    <tr>\n",
       "      <th>1</th>\n",
       "      <td>none</td>\n",
       "      <td>none</td>\n",
       "      <td>z_score</td>\n",
       "      <td>lgbm_baseline</td>\n",
       "      <td>validation</td>\n",
       "      <td>0.998835</td>\n",
       "      <td>0.156421</td>\n",
       "      <td>0.725989</td>\n",
       "      <td>0.257386</td>\n",
       "    </tr>\n",
       "    <tr>\n",
       "      <th>2</th>\n",
       "      <td>none</td>\n",
       "      <td>none</td>\n",
       "      <td>z_score</td>\n",
       "      <td>lgbm_tuned</td>\n",
       "      <td>train</td>\n",
       "      <td>0.998847</td>\n",
       "      <td>0.162985</td>\n",
       "      <td>0.742472</td>\n",
       "      <td>0.267294</td>\n",
       "    </tr>\n",
       "    <tr>\n",
       "      <th>3</th>\n",
       "      <td>none</td>\n",
       "      <td>none</td>\n",
       "      <td>z_score</td>\n",
       "      <td>lgbm_tuned</td>\n",
       "      <td>validation</td>\n",
       "      <td>0.998809</td>\n",
       "      <td>0.116859</td>\n",
       "      <td>0.747082</td>\n",
       "      <td>0.202105</td>\n",
       "    </tr>\n",
       "    <tr>\n",
       "      <th>4</th>\n",
       "      <td>none</td>\n",
       "      <td>smote</td>\n",
       "      <td>z_score</td>\n",
       "      <td>lgbm_baseline</td>\n",
       "      <td>train</td>\n",
       "      <td>0.995328</td>\n",
       "      <td>0.547999</td>\n",
       "      <td>0.965041</td>\n",
       "      <td>0.699045</td>\n",
       "    </tr>\n",
       "    <tr>\n",
       "      <th>5</th>\n",
       "      <td>none</td>\n",
       "      <td>smote</td>\n",
       "      <td>z_score</td>\n",
       "      <td>lgbm_baseline</td>\n",
       "      <td>validation</td>\n",
       "      <td>0.998730</td>\n",
       "      <td>0.166159</td>\n",
       "      <td>0.526012</td>\n",
       "      <td>0.252544</td>\n",
       "    </tr>\n",
       "  </tbody>\n",
       "</table>\n",
       "</div>"
      ],
      "text/plain": [
       "  normalization imbalance outliers          model     dataset  accuracy  \\\n",
       "0          none      none  z_score  lgbm_baseline       train  0.998862   \n",
       "1          none      none  z_score  lgbm_baseline  validation  0.998835   \n",
       "2          none      none  z_score     lgbm_tuned       train  0.998847   \n",
       "3          none      none  z_score     lgbm_tuned  validation  0.998809   \n",
       "4          none     smote  z_score  lgbm_baseline       train  0.995328   \n",
       "5          none     smote  z_score  lgbm_baseline  validation  0.998730   \n",
       "\n",
       "     recall  precision  f1_score  \n",
       "0  0.160550   0.792955  0.267033  \n",
       "1  0.156421   0.725989  0.257386  \n",
       "2  0.162985   0.742472  0.267294  \n",
       "3  0.116859   0.747082  0.202105  \n",
       "4  0.547999   0.965041  0.699045  \n",
       "5  0.166159   0.526012  0.252544  "
      ]
     },
     "execution_count": 403,
     "metadata": {},
     "output_type": "execute_result"
    }
   ],
   "source": [
    "df_eval_tuning"
   ]
  },
  {
   "cell_type": "code",
   "execution_count": 404,
   "metadata": {},
   "outputs": [
    {
     "data": {
      "image/png": "[encoded data removed]",
      "text/plain": [
       "<Figure size 640x480 with 2 Axes>"
      ]
     },
     "metadata": {},
     "output_type": "display_data"
    }
   ],
   "source": [
    "c_model_eval.plot_confusion_matrix()"
   ]
  },
  {
   "cell_type": "markdown",
   "metadata": {},
   "source": [
    "##### Tuned Model"
   ]
  },
  {
   "cell_type": "code",
   "execution_count": null,
   "metadata": {},
   "outputs": [],
   "source": [
    "compute = False # 41 min to compute\n",
    "smote_tuning_json = \"../data/evaluation/tuning_smote.json\"\n",
    "\n",
    "if compute:\n",
    "    params_grid = {\n",
    "        \"verbose\" : [-1],\n",
    "        \"n_jobs\" : [-1],\n",
    "        \"n_estimators\" : [100, 1000],\n",
    "        \"random_state\" : [seed],\n",
    "        \"max_depth\" : [7, -1],\n",
    "        \"num_leaves\" : [15, 31],\n",
    "        \"learning_rate\" : [0.01, 0.005, 0.1],\n",
    "        \"min_child_samples\" : [10, 20],\n",
    "        \"subsample\" : [0.8, 1],\n",
    "        \"colsample_bytree\" : [0.8, 1],\n",
    "        \"scale_pos_weight\" : [1, 5, 30]\n",
    "    }\n",
    "\n",
    "    best = {\"f1\": 0}\n",
    "\n",
    "\n",
    "    for idx, params in enumerate(ParameterGrid(params_grid)):\n",
    "        print(idx, \" out of\", len(ParameterGrid(params_grid)) - 1)\n",
    "\n",
    "        lgbm_class = LGBMClassifier(**params)\n",
    "\n",
    "        lgbm_class.fit(x_train, y_train, eval_set=[(x_val, y_val)], callbacks = [early_stopping(stopping_rounds=50)])\n",
    "\n",
    "        y_pred = lgbm_class.predict(x_val)\n",
    "\n",
    "        f1_curr = skm.f1_score(y_val, y_pred, zero_division=0)\n",
    "\n",
    "        if f1_curr > best[\"f1\"]:\n",
    "            best.update(params)\n",
    "            best.update({\"f1\": f1_curr})\n",
    "\n",
    "    with open(smote_tuning_json, \"w\") as file:\n",
    "        json.dump(best, file, indent = 4)\n",
    "\n",
    "else:\n",
    "    with open(smote_tuning_json, \"r\") as file:\n",
    "        best = json.load(file)"
   ]
  },
  {
   "cell_type": "code",
   "execution_count": 412,
   "metadata": {},
   "outputs": [
    {
     "data": {
      "text/plain": [
       "{'f1': 0.27714285714285714,\n",
       " 'colsample_bytree': 1,\n",
       " 'learning_rate': 0.1,\n",
       " 'max_depth': 7,\n",
       " 'min_child_samples': 10,\n",
       " 'n_estimators': 100,\n",
       " 'n_jobs': -1,\n",
       " 'num_leaves': 15,\n",
       " 'random_state': 11,\n",
       " 'scale_pos_weight': 1,\n",
       " 'subsample': 0.8,\n",
       " 'verbose': -1}"
      ]
     },
     "execution_count": 412,
     "metadata": {},
     "output_type": "execute_result"
    }
   ],
   "source": [
    "best"
   ]
  },
  {
   "cell_type": "code",
   "execution_count": 413,
   "metadata": {},
   "outputs": [
    {
     "data": {
      "text/plain": [
       "{'colsample_bytree': 1,\n",
       " 'learning_rate': 0.1,\n",
       " 'max_depth': 7,\n",
       " 'min_child_samples': 10,\n",
       " 'n_estimators': 100,\n",
       " 'n_jobs': -1,\n",
       " 'num_leaves': 15,\n",
       " 'random_state': 11,\n",
       " 'scale_pos_weight': 1,\n",
       " 'subsample': 0.8,\n",
       " 'verbose': -1}"
      ]
     },
     "execution_count": 413,
     "metadata": {},
     "output_type": "execute_result"
    }
   ],
   "source": [
    "best_params = best.copy()\n",
    "best_params.pop(\"f1\")\n",
    "best_params"
   ]
  },
  {
   "cell_type": "code",
   "execution_count": 408,
   "metadata": {},
   "outputs": [],
   "source": [
    "lgbm_class = LGBMClassifier(**best_params)\n",
    "\n",
    "c_model_eval = ClassicModelsEvaluation(\n",
    "    x_train = x_train,\n",
    "    y_train = y_train,\n",
    "    x_val = x_val, \n",
    "    y_val = y_val,\n",
    "    df_eval = df_eval_tuning,\n",
    "    imbalance = imbalance,\n",
    "    outliers = outliers,\n",
    "    normalize = normalize,\n",
    "    model = lgbm_class,\n",
    "    model_name = \"lgbm_tuned\",\n",
    "    compute_cm = True\n",
    ")"
   ]
  },
  {
   "cell_type": "code",
   "execution_count": 409,
   "metadata": {},
   "outputs": [
    {
     "data": {
      "text/html": [
       "<div>\n",
       "<style scoped>\n",
       "    .dataframe tbody tr th:only-of-type {\n",
       "        vertical-align: middle;\n",
       "    }\n",
       "\n",
       "    .dataframe tbody tr th {\n",
       "        vertical-align: top;\n",
       "    }\n",
       "\n",
       "    .dataframe thead th {\n",
       "        text-align: right;\n",
       "    }\n",
       "</style>\n",
       "<table border=\"1\" class=\"dataframe\">\n",
       "  <thead>\n",
       "    <tr style=\"text-align: right;\">\n",
       "      <th></th>\n",
       "      <th>normalization</th>\n",
       "      <th>imbalance</th>\n",
       "      <th>outliers</th>\n",
       "      <th>model</th>\n",
       "      <th>dataset</th>\n",
       "      <th>accuracy</th>\n",
       "      <th>recall</th>\n",
       "      <th>precision</th>\n",
       "      <th>f1_score</th>\n",
       "    </tr>\n",
       "  </thead>\n",
       "  <tbody>\n",
       "    <tr>\n",
       "      <th>0</th>\n",
       "      <td>none</td>\n",
       "      <td>none</td>\n",
       "      <td>z_score</td>\n",
       "      <td>lgbm_baseline</td>\n",
       "      <td>train</td>\n",
       "      <td>0.998862</td>\n",
       "      <td>0.160550</td>\n",
       "      <td>0.792955</td>\n",
       "      <td>0.267033</td>\n",
       "    </tr>\n",
       "    <tr>\n",
       "      <th>1</th>\n",
       "      <td>none</td>\n",
       "      <td>none</td>\n",
       "      <td>z_score</td>\n",
       "      <td>lgbm_baseline</td>\n",
       "      <td>validation</td>\n",
       "      <td>0.998835</td>\n",
       "      <td>0.156421</td>\n",
       "      <td>0.725989</td>\n",
       "      <td>0.257386</td>\n",
       "    </tr>\n",
       "    <tr>\n",
       "      <th>2</th>\n",
       "      <td>none</td>\n",
       "      <td>none</td>\n",
       "      <td>z_score</td>\n",
       "      <td>lgbm_tuned</td>\n",
       "      <td>train</td>\n",
       "      <td>0.998847</td>\n",
       "      <td>0.162985</td>\n",
       "      <td>0.742472</td>\n",
       "      <td>0.267294</td>\n",
       "    </tr>\n",
       "    <tr>\n",
       "      <th>3</th>\n",
       "      <td>none</td>\n",
       "      <td>none</td>\n",
       "      <td>z_score</td>\n",
       "      <td>lgbm_tuned</td>\n",
       "      <td>validation</td>\n",
       "      <td>0.998809</td>\n",
       "      <td>0.116859</td>\n",
       "      <td>0.747082</td>\n",
       "      <td>0.202105</td>\n",
       "    </tr>\n",
       "    <tr>\n",
       "      <th>4</th>\n",
       "      <td>none</td>\n",
       "      <td>smote</td>\n",
       "      <td>z_score</td>\n",
       "      <td>lgbm_baseline</td>\n",
       "      <td>train</td>\n",
       "      <td>0.995328</td>\n",
       "      <td>0.547999</td>\n",
       "      <td>0.965041</td>\n",
       "      <td>0.699045</td>\n",
       "    </tr>\n",
       "    <tr>\n",
       "      <th>5</th>\n",
       "      <td>none</td>\n",
       "      <td>smote</td>\n",
       "      <td>z_score</td>\n",
       "      <td>lgbm_baseline</td>\n",
       "      <td>validation</td>\n",
       "      <td>0.998730</td>\n",
       "      <td>0.166159</td>\n",
       "      <td>0.526012</td>\n",
       "      <td>0.252544</td>\n",
       "    </tr>\n",
       "    <tr>\n",
       "      <th>6</th>\n",
       "      <td>none</td>\n",
       "      <td>smote</td>\n",
       "      <td>z_score</td>\n",
       "      <td>lgbm_tuned</td>\n",
       "      <td>train</td>\n",
       "      <td>0.995367</td>\n",
       "      <td>0.538602</td>\n",
       "      <td>0.987958</td>\n",
       "      <td>0.697144</td>\n",
       "    </tr>\n",
       "    <tr>\n",
       "      <th>7</th>\n",
       "      <td>none</td>\n",
       "      <td>smote</td>\n",
       "      <td>z_score</td>\n",
       "      <td>lgbm_tuned</td>\n",
       "      <td>validation</td>\n",
       "      <td>0.996357</td>\n",
       "      <td>0.170420</td>\n",
       "      <td>0.078807</td>\n",
       "      <td>0.107775</td>\n",
       "    </tr>\n",
       "  </tbody>\n",
       "</table>\n",
       "</div>"
      ],
      "text/plain": [
       "  normalization imbalance outliers          model     dataset  accuracy  \\\n",
       "0          none      none  z_score  lgbm_baseline       train  0.998862   \n",
       "1          none      none  z_score  lgbm_baseline  validation  0.998835   \n",
       "2          none      none  z_score     lgbm_tuned       train  0.998847   \n",
       "3          none      none  z_score     lgbm_tuned  validation  0.998809   \n",
       "4          none     smote  z_score  lgbm_baseline       train  0.995328   \n",
       "5          none     smote  z_score  lgbm_baseline  validation  0.998730   \n",
       "6          none     smote  z_score     lgbm_tuned       train  0.995367   \n",
       "7          none     smote  z_score     lgbm_tuned  validation  0.996357   \n",
       "\n",
       "     recall  precision  f1_score  \n",
       "0  0.160550   0.792955  0.267033  \n",
       "1  0.156421   0.725989  0.257386  \n",
       "2  0.162985   0.742472  0.267294  \n",
       "3  0.116859   0.747082  0.202105  \n",
       "4  0.547999   0.965041  0.699045  \n",
       "5  0.166159   0.526012  0.252544  \n",
       "6  0.538602   0.987958  0.697144  \n",
       "7  0.170420   0.078807  0.107775  "
      ]
     },
     "execution_count": 409,
     "metadata": {},
     "output_type": "execute_result"
    }
   ],
   "source": [
    "df_eval_tuning"
   ]
  },
  {
   "cell_type": "code",
   "execution_count": 410,
   "metadata": {},
   "outputs": [
    {
     "data": {
      "image/png": "[encoded data removed]",
      "text/plain": [
       "<Figure size 640x480 with 2 Axes>"
      ]
     },
     "metadata": {},
     "output_type": "display_data"
    }
   ],
   "source": [
    "c_model_eval.plot_confusion_matrix()"
   ]
  },
  {
   "cell_type": "markdown",
   "metadata": {},
   "source": [
    "#### Evaluating results"
   ]
  },
  {
   "cell_type": "code",
   "execution_count": 414,
   "metadata": {},
   "outputs": [
    {
     "data": {
      "text/html": [
       "<div>\n",
       "<style scoped>\n",
       "    .dataframe tbody tr th:only-of-type {\n",
       "        vertical-align: middle;\n",
       "    }\n",
       "\n",
       "    .dataframe tbody tr th {\n",
       "        vertical-align: top;\n",
       "    }\n",
       "\n",
       "    .dataframe thead th {\n",
       "        text-align: right;\n",
       "    }\n",
       "</style>\n",
       "<table border=\"1\" class=\"dataframe\">\n",
       "  <thead>\n",
       "    <tr style=\"text-align: right;\">\n",
       "      <th></th>\n",
       "      <th>normalization</th>\n",
       "      <th>imbalance</th>\n",
       "      <th>outliers</th>\n",
       "      <th>model</th>\n",
       "      <th>dataset</th>\n",
       "      <th>accuracy</th>\n",
       "      <th>recall</th>\n",
       "      <th>precision</th>\n",
       "      <th>f1_score</th>\n",
       "    </tr>\n",
       "  </thead>\n",
       "  <tbody>\n",
       "    <tr>\n",
       "      <th>0</th>\n",
       "      <td>none</td>\n",
       "      <td>none</td>\n",
       "      <td>z_score</td>\n",
       "      <td>lgbm_baseline</td>\n",
       "      <td>train</td>\n",
       "      <td>0.998862</td>\n",
       "      <td>0.160550</td>\n",
       "      <td>0.792955</td>\n",
       "      <td>0.267033</td>\n",
       "    </tr>\n",
       "    <tr>\n",
       "      <th>1</th>\n",
       "      <td>none</td>\n",
       "      <td>none</td>\n",
       "      <td>z_score</td>\n",
       "      <td>lgbm_baseline</td>\n",
       "      <td>validation</td>\n",
       "      <td>0.998835</td>\n",
       "      <td>0.156421</td>\n",
       "      <td>0.725989</td>\n",
       "      <td>0.257386</td>\n",
       "    </tr>\n",
       "    <tr>\n",
       "      <th>2</th>\n",
       "      <td>none</td>\n",
       "      <td>none</td>\n",
       "      <td>z_score</td>\n",
       "      <td>lgbm_tuned</td>\n",
       "      <td>train</td>\n",
       "      <td>0.998847</td>\n",
       "      <td>0.162985</td>\n",
       "      <td>0.742472</td>\n",
       "      <td>0.267294</td>\n",
       "    </tr>\n",
       "    <tr>\n",
       "      <th>3</th>\n",
       "      <td>none</td>\n",
       "      <td>none</td>\n",
       "      <td>z_score</td>\n",
       "      <td>lgbm_tuned</td>\n",
       "      <td>validation</td>\n",
       "      <td>0.998809</td>\n",
       "      <td>0.116859</td>\n",
       "      <td>0.747082</td>\n",
       "      <td>0.202105</td>\n",
       "    </tr>\n",
       "    <tr>\n",
       "      <th>4</th>\n",
       "      <td>none</td>\n",
       "      <td>smote</td>\n",
       "      <td>z_score</td>\n",
       "      <td>lgbm_baseline</td>\n",
       "      <td>train</td>\n",
       "      <td>0.995328</td>\n",
       "      <td>0.547999</td>\n",
       "      <td>0.965041</td>\n",
       "      <td>0.699045</td>\n",
       "    </tr>\n",
       "    <tr>\n",
       "      <th>5</th>\n",
       "      <td>none</td>\n",
       "      <td>smote</td>\n",
       "      <td>z_score</td>\n",
       "      <td>lgbm_baseline</td>\n",
       "      <td>validation</td>\n",
       "      <td>0.998730</td>\n",
       "      <td>0.166159</td>\n",
       "      <td>0.526012</td>\n",
       "      <td>0.252544</td>\n",
       "    </tr>\n",
       "    <tr>\n",
       "      <th>6</th>\n",
       "      <td>none</td>\n",
       "      <td>smote</td>\n",
       "      <td>z_score</td>\n",
       "      <td>lgbm_tuned</td>\n",
       "      <td>train</td>\n",
       "      <td>0.995367</td>\n",
       "      <td>0.538602</td>\n",
       "      <td>0.987958</td>\n",
       "      <td>0.697144</td>\n",
       "    </tr>\n",
       "    <tr>\n",
       "      <th>7</th>\n",
       "      <td>none</td>\n",
       "      <td>smote</td>\n",
       "      <td>z_score</td>\n",
       "      <td>lgbm_tuned</td>\n",
       "      <td>validation</td>\n",
       "      <td>0.996357</td>\n",
       "      <td>0.170420</td>\n",
       "      <td>0.078807</td>\n",
       "      <td>0.107775</td>\n",
       "    </tr>\n",
       "  </tbody>\n",
       "</table>\n",
       "</div>"
      ],
      "text/plain": [
       "  normalization imbalance outliers          model     dataset  accuracy  \\\n",
       "0          none      none  z_score  lgbm_baseline       train  0.998862   \n",
       "1          none      none  z_score  lgbm_baseline  validation  0.998835   \n",
       "2          none      none  z_score     lgbm_tuned       train  0.998847   \n",
       "3          none      none  z_score     lgbm_tuned  validation  0.998809   \n",
       "4          none     smote  z_score  lgbm_baseline       train  0.995328   \n",
       "5          none     smote  z_score  lgbm_baseline  validation  0.998730   \n",
       "6          none     smote  z_score     lgbm_tuned       train  0.995367   \n",
       "7          none     smote  z_score     lgbm_tuned  validation  0.996357   \n",
       "\n",
       "     recall  precision  f1_score  \n",
       "0  0.160550   0.792955  0.267033  \n",
       "1  0.156421   0.725989  0.257386  \n",
       "2  0.162985   0.742472  0.267294  \n",
       "3  0.116859   0.747082  0.202105  \n",
       "4  0.547999   0.965041  0.699045  \n",
       "5  0.166159   0.526012  0.252544  \n",
       "6  0.538602   0.987958  0.697144  \n",
       "7  0.170420   0.078807  0.107775  "
      ]
     },
     "execution_count": 414,
     "metadata": {},
     "output_type": "execute_result"
    }
   ],
   "source": [
    "df_eval_tuning"
   ]
  },
  {
   "cell_type": "markdown",
   "metadata": {},
   "source": [
    "### Threshold optimization"
   ]
  },
  {
   "cell_type": "code",
   "execution_count": null,
   "metadata": {},
   "outputs": [],
   "source": []
  }
 ],
 "metadata": {
  "kernelspec": {
   "display_name": "base",
   "language": "python",
   "name": "python3"
  },
  "language_info": {
   "codemirror_mode": {
    "name": "ipython",
    "version": 3
   },
   "file_extension": ".py",
   "mimetype": "text/x-python",
   "name": "python",
   "nbconvert_exporter": "python",
   "pygments_lexer": "ipython3",
   "version": "3.12.11"
  }
 },
 "nbformat": 4,
 "nbformat_minor": 2
}
